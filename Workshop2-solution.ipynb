{
 "cells": [
  {
   "cell_type": "markdown",
   "id": "71320fd8-abd6-4e4b-a3a5-6da39746e8bf",
   "metadata": {},
   "source": [
    "# WORKSHOP2 TASK SOLUTION SHEET"
   ]
  },
  {
   "cell_type": "markdown",
   "id": "d91a2746-1889-4ffc-b518-811ae06152c5",
   "metadata": {},
   "source": [
    "#### Q1:\n",
    "    Create a function that prints something to the screen when called"
   ]
  },
  {
   "cell_type": "code",
   "execution_count": 1,
   "id": "36f604e4-0d7c-4b8e-b6c8-16009ed7791d",
   "metadata": {},
   "outputs": [
    {
     "name": "stdout",
     "output_type": "stream",
     "text": [
      "Hello world! From my function\n"
     ]
    }
   ],
   "source": [
    "# creating the function\n",
    "def my_amazing_func():\n",
    "    print(\"Hello world! From my function\")\n",
    "    \n",
    "# calling the function\n",
    "my_amazing_func()"
   ]
  },
  {
   "cell_type": "markdown",
   "id": "dd140485-89eb-46e9-aaff-49117b02f811",
   "metadata": {},
   "source": [
    "#### Q2:\n",
    "    Prove that my_amazing_func does not return anything"
   ]
  },
  {
   "cell_type": "code",
   "execution_count": 2,
   "id": "19199797-ad62-4ef8-a361-210a69aaedda",
   "metadata": {},
   "outputs": [
    {
     "name": "stdout",
     "output_type": "stream",
     "text": [
      "Hello world! From my function\n",
      "None\n",
      "<class 'NoneType'>\n"
     ]
    }
   ],
   "source": [
    "# First, assign a variable/name to the output of the function (my_amazing_func)\n",
    "result = my_amazing_func()\n",
    "\n",
    "# Next, print the stored returned value from the function (result) to the screen,\n",
    "# as well as its type/class\n",
    "print(result)\n",
    "print(type(result))"
   ]
  },
  {
   "cell_type": "markdown",
   "id": "9168097d-f64f-4973-ba07-f91d14365c43",
   "metadata": {},
   "source": [
    "#### Q3:\n",
    "    Redefine my_amazing_func to only print the parameter it is given"
   ]
  },
  {
   "cell_type": "code",
   "execution_count": 3,
   "id": "2f029bd9-5fac-4606-8a2a-7b4c8638e4d8",
   "metadata": {},
   "outputs": [
    {
     "ename": "TypeError",
     "evalue": "my_amazing_func() missing 1 required positional argument: 'the_thing_to_print'",
     "output_type": "error",
     "traceback": [
      "\u001b[1;31m---------------------------------------------------------------------------\u001b[0m",
      "\u001b[1;31mTypeError\u001b[0m                                 Traceback (most recent call last)",
      "\u001b[1;32m~\\AppData\\Local\\Temp/ipykernel_13156/3492032462.py\u001b[0m in \u001b[0;36m<module>\u001b[1;34m\u001b[0m\n\u001b[0;32m      4\u001b[0m \u001b[1;33m\u001b[0m\u001b[0m\n\u001b[0;32m      5\u001b[0m \u001b[1;31m# rerun the old code (without an argument)\u001b[0m\u001b[1;33m\u001b[0m\u001b[1;33m\u001b[0m\u001b[0m\n\u001b[1;32m----> 6\u001b[1;33m \u001b[0mmy_amazing_func\u001b[0m\u001b[1;33m(\u001b[0m\u001b[1;33m)\u001b[0m\u001b[1;33m\u001b[0m\u001b[1;33m\u001b[0m\u001b[0m\n\u001b[0m",
      "\u001b[1;31mTypeError\u001b[0m: my_amazing_func() missing 1 required positional argument: 'the_thing_to_print'"
     ]
    }
   ],
   "source": [
    "# redefine my_amazing_func to print a parameter (the_thing_to_print)\n",
    "def my_amazing_func(the_thing_to_print):\n",
    "    print(the_thing_to_print)\n",
    "    \n",
    "# rerun the old code (without an argument)\n",
    "my_amazing_func()"
   ]
  },
  {
   "cell_type": "code",
   "execution_count": 4,
   "id": "54854eff-a06a-4131-a37f-aa9d95a56b9d",
   "metadata": {},
   "outputs": [
    {
     "name": "stdout",
     "output_type": "stream",
     "text": [
      "This is a test\n"
     ]
    }
   ],
   "source": [
    "# We now provide an argument (of str type) to the function\n",
    "my_amazing_func(\"This is a test\")"
   ]
  },
  {
   "cell_type": "markdown",
   "id": "2abc1a1b-49c1-4682-b479-8842d372d22d",
   "metadata": {},
   "source": [
    "The above error message shows that my_amazing_func can no longer run successfully without an argument.<br>Because the new definition of the function expects the user to provide an argument when invoking it."
   ]
  },
  {
   "cell_type": "markdown",
   "id": "9aed311d-57c4-42fd-8e29-46af406295c5",
   "metadata": {},
   "source": [
    "#### Q4:\n",
    "    Alter the function by making the parameter have a default value"
   ]
  },
  {
   "cell_type": "code",
   "execution_count": 5,
   "id": "4bb656df-5d6c-4a5b-b9b8-d9d483400661",
   "metadata": {},
   "outputs": [
    {
     "name": "stdout",
     "output_type": "stream",
     "text": [
      "The default thing you want\n"
     ]
    }
   ],
   "source": [
    "def my_amazing_func(thing_to_print='The default thing you want'):\n",
    "    print(thing_to_print)\n",
    "    \n",
    "# invoke the func without providing an argument\n",
    "my_amazing_func()"
   ]
  },
  {
   "cell_type": "markdown",
   "id": "d90d385a-3994-4949-98d1-0c6754507b7b",
   "metadata": {},
   "source": [
    "#### Q5:\n",
    "    Now call my_amazing_func with a new argument"
   ]
  },
  {
   "cell_type": "code",
   "execution_count": 6,
   "id": "0c728e6b-952d-4523-93ea-ffc6e26f892b",
   "metadata": {},
   "outputs": [
    {
     "name": "stdout",
     "output_type": "stream",
     "text": [
      "Do what I say\n"
     ]
    }
   ],
   "source": [
    "my_amazing_func(\"Do what I say\")"
   ]
  },
  {
   "cell_type": "code",
   "execution_count": 7,
   "id": "b2fb4042-8b41-410e-aa82-4fa7d46de29b",
   "metadata": {},
   "outputs": [
    {
     "name": "stdout",
     "output_type": "stream",
     "text": [
      "Or what I ask\n"
     ]
    }
   ],
   "source": [
    "my_amazing_func(thing_to_print='Or what I ask')"
   ]
  },
  {
   "cell_type": "markdown",
   "id": "1b3a46ce-192c-40c2-b5a9-dcb85bf4e2ef",
   "metadata": {},
   "source": [
    "#### Q5:\n",
    "    Import the random module (which is an inbuilt module), and use its functions"
   ]
  },
  {
   "cell_type": "code",
   "execution_count": 8,
   "id": "d714b58e-884f-443f-8f1a-d74a705f1038",
   "metadata": {},
   "outputs": [],
   "source": [
    "import random"
   ]
  },
  {
   "cell_type": "code",
   "execution_count": 9,
   "id": "44885b6e-87b1-4708-87bf-05c27472e562",
   "metadata": {},
   "outputs": [
    {
     "name": "stdout",
     "output_type": "stream",
     "text": [
      "0\n"
     ]
    }
   ],
   "source": [
    "# we can now use any function from the random module\n",
    "# calling the randint function in the random module\n",
    "randomly_selected_integer = random.randint(0, 10)\n",
    "print(randomly_selected_integer)"
   ]
  },
  {
   "cell_type": "code",
   "execution_count": 10,
   "id": "11521bbe-5184-44e6-b90e-c9a4b52261af",
   "metadata": {},
   "outputs": [
    {
     "name": "stdout",
     "output_type": "stream",
     "text": [
      "6\n"
     ]
    }
   ],
   "source": [
    "# rerunning the code to show that an integer \n",
    "# is selected at random between the lesser and greater numbers\n",
    "# given as arguments\n",
    "randomly_selected_integer = random.randint(0, 10)\n",
    "print(randomly_selected_integer)"
   ]
  },
  {
   "cell_type": "markdown",
   "id": "693dd60b-a88b-4e67-a8a4-8bdbfe6e2a3c",
   "metadata": {},
   "source": [
    "#### Q6:\n",
    "    Print a random number 20 times using a for loop"
   ]
  },
  {
   "cell_type": "code",
   "execution_count": 11,
   "id": "a431345a-b3b7-492a-ad7d-daa09d743505",
   "metadata": {
    "tags": []
   },
   "outputs": [
    {
     "name": "stdout",
     "output_type": "stream",
     "text": [
      "356\n",
      "130\n",
      "728\n",
      "360\n",
      "583\n",
      "231\n",
      "709\n",
      "514\n",
      "905\n",
      "152\n",
      "672\n",
      "303\n",
      "943\n",
      "813\n",
      "147\n",
      "901\n",
      "42\n",
      "259\n",
      "180\n",
      "300\n"
     ]
    }
   ],
   "source": [
    "for n in range(20):\n",
    "    print( random.randint(1, 1000) )"
   ]
  },
  {
   "cell_type": "code",
   "execution_count": 13,
   "id": "91fcbdcd-b75e-4c9d-8d9c-e26a1e11101d",
   "metadata": {
    "collapsed": true,
    "jupyter": {
     "outputs_hidden": true
    },
    "tags": []
   },
   "outputs": [
    {
     "name": "stdout",
     "output_type": "stream",
     "text": [
      "1:\t467\n",
      "2:\t610\n",
      "3:\t79\n",
      "4:\t505\n",
      "5:\t944\n",
      "6:\t517\n",
      "7:\t500\n",
      "8:\t114\n",
      "9:\t71\n",
      "10:\t464\n",
      "11:\t746\n",
      "12:\t383\n",
      "13:\t811\n",
      "14:\t614\n",
      "15:\t111\n",
      "16:\t517\n",
      "17:\t203\n",
      "18:\t351\n",
      "19:\t822\n",
      "20:\t889\n"
     ]
    }
   ],
   "source": [
    "for n in range(1, 21):\n",
    "    print( n, random.randint(1, 1000) , sep=':\\t')"
   ]
  },
  {
   "cell_type": "markdown",
   "id": "a6f18cab-9584-4627-b1b4-c532c8abaeb1",
   "metadata": {},
   "source": [
    "#### Q7:\n",
    "    Testing the scope of variables"
   ]
  },
  {
   "cell_type": "code",
   "execution_count": 12,
   "id": "1e638adb-7509-4766-b070-1dea59bac404",
   "metadata": {},
   "outputs": [
    {
     "name": "stdout",
     "output_type": "stream",
     "text": [
      "Some outer scope string literal 42\n"
     ]
    }
   ],
   "source": [
    "a, b = 'Some outer scope string literal', 42\n",
    "\n",
    "def some_func():\n",
    "    print(a, b)\n",
    "    \n",
    "some_func()"
   ]
  },
  {
   "cell_type": "code",
   "execution_count": 13,
   "id": "82ff93fa-d289-4ebb-a32c-fc4792f9ef0f",
   "metadata": {
    "scrolled": true
   },
   "outputs": [
    {
     "ename": "TypeError",
     "evalue": "some_func() missing 2 required positional arguments: 'a' and 'b'",
     "output_type": "error",
     "traceback": [
      "\u001b[1;31m---------------------------------------------------------------------------\u001b[0m",
      "\u001b[1;31mTypeError\u001b[0m                                 Traceback (most recent call last)",
      "\u001b[1;32m~\\AppData\\Local\\Temp/ipykernel_13156/3742819274.py\u001b[0m in \u001b[0;36m<module>\u001b[1;34m\u001b[0m\n\u001b[0;32m      2\u001b[0m     \u001b[0mprint\u001b[0m\u001b[1;33m(\u001b[0m\u001b[0ma\u001b[0m\u001b[1;33m,\u001b[0m \u001b[0mb\u001b[0m\u001b[1;33m)\u001b[0m\u001b[1;33m\u001b[0m\u001b[1;33m\u001b[0m\u001b[0m\n\u001b[0;32m      3\u001b[0m \u001b[1;33m\u001b[0m\u001b[0m\n\u001b[1;32m----> 4\u001b[1;33m \u001b[0msome_func\u001b[0m\u001b[1;33m(\u001b[0m\u001b[1;33m)\u001b[0m\u001b[1;33m\u001b[0m\u001b[1;33m\u001b[0m\u001b[0m\n\u001b[0m",
      "\u001b[1;31mTypeError\u001b[0m: some_func() missing 2 required positional arguments: 'a' and 'b'"
     ]
    }
   ],
   "source": [
    "def some_func(a, b):\n",
    "    print(a, b)\n",
    "    \n",
    "some_func()"
   ]
  },
  {
   "cell_type": "code",
   "execution_count": 14,
   "id": "d6550835-2b86-471a-b6d6-1d8b84be16ea",
   "metadata": {},
   "outputs": [
    {
     "name": "stdout",
     "output_type": "stream",
     "text": [
      "new a new b\n"
     ]
    }
   ],
   "source": [
    "some_func(a='new a', b='new b')"
   ]
  },
  {
   "cell_type": "code",
   "execution_count": 1,
   "id": "7372e2ff",
   "metadata": {},
   "outputs": [
    {
     "ename": "NameError",
     "evalue": "name 'c' is not defined",
     "output_type": "error",
     "traceback": [
      "\u001b[1;31m---------------------------------------------------------------------------\u001b[0m",
      "\u001b[1;31mNameError\u001b[0m                                 Traceback (most recent call last)",
      "\u001b[1;32m<ipython-input-1-1dd5973cae19>\u001b[0m in \u001b[0;36m<module>\u001b[1;34m\u001b[0m\n\u001b[1;32m----> 1\u001b[1;33m \u001b[0mprint\u001b[0m\u001b[1;33m(\u001b[0m\u001b[0mc\u001b[0m\u001b[1;33m)\u001b[0m\u001b[1;33m\u001b[0m\u001b[1;33m\u001b[0m\u001b[0m\n\u001b[0m",
      "\u001b[1;31mNameError\u001b[0m: name 'c' is not defined"
     ]
    }
   ],
   "source": [
    "print(c)"
   ]
  },
  {
   "cell_type": "markdown",
   "id": "c47e78af-a5d7-4881-8544-b25827104e15",
   "metadata": {},
   "source": [
    "#### Q8:\n",
    "    Define a function with a return value"
   ]
  },
  {
   "cell_type": "code",
   "execution_count": 15,
   "id": "930fb632-9eb3-4ae1-8fd7-5032ad884637",
   "metadata": {},
   "outputs": [
    {
     "name": "stdout",
     "output_type": "stream",
     "text": [
      "4\n"
     ]
    }
   ],
   "source": [
    "def always_4():\n",
    "    return 4\n",
    "\n",
    "output = always_4()\n",
    "print(output)"
   ]
  },
  {
   "cell_type": "markdown",
   "id": "6e33ffaf-657b-4740-ba96-9d3ad23ebb4c",
   "metadata": {},
   "source": [
    "#### Q9:\n",
    "    Define a function that adds two numeric inputs as its arguments and returns the result"
   ]
  },
  {
   "cell_type": "code",
   "execution_count": 16,
   "id": "c4f1fc46-cb43-4335-8a47-bfddfabd63ea",
   "metadata": {},
   "outputs": [],
   "source": [
    "def add_numbers(num1, num2):\n",
    "    return num1 + num2"
   ]
  },
  {
   "cell_type": "code",
   "execution_count": 17,
   "id": "be81ed62-9f15-4ec6-9dd1-12eb2c9a7465",
   "metadata": {},
   "outputs": [
    {
     "name": "stdout",
     "output_type": "stream",
     "text": [
      "3\n"
     ]
    }
   ],
   "source": [
    "add_result = add_numbers(0, 3)\n",
    "print(add_result)"
   ]
  },
  {
   "cell_type": "markdown",
   "id": "55198e6e-1a68-4a3f-add0-0324883f4ff7",
   "metadata": {},
   "source": [
    "#### Q10:\n",
    "    Define a function that tells us where in the list the value, -1, is located. That is if the list contains -1"
   ]
  },
  {
   "cell_type": "code",
   "execution_count": 18,
   "id": "a79a25c3-e6df-4e72-9fd0-b6a472e5ca0a",
   "metadata": {},
   "outputs": [],
   "source": [
    "def find_negative_one(A):\n",
    "    for ind in range(len(A)):\n",
    "        if A[ind] == -1:\n",
    "            return ind"
   ]
  },
  {
   "cell_type": "code",
   "execution_count": 19,
   "id": "74617082-66ff-4830-8717-044bbdc969c5",
   "metadata": {},
   "outputs": [
    {
     "name": "stdout",
     "output_type": "stream",
     "text": [
      "3\n"
     ]
    }
   ],
   "source": [
    "A = [5, 2, 9, -1, 3, 12]\n",
    "result = find_negative_one(A)\n",
    "print(result)"
   ]
  },
  {
   "cell_type": "code",
   "execution_count": 20,
   "id": "cceb1fc5-bac2-4054-851e-ae70d417dd44",
   "metadata": {},
   "outputs": [
    {
     "name": "stdout",
     "output_type": "stream",
     "text": [
      "5\n"
     ]
    }
   ],
   "source": [
    "A = [5, 2, 9, 3, 12, -1, 0]\n",
    "result = find_negative_one(A)\n",
    "print(result)"
   ]
  },
  {
   "cell_type": "markdown",
   "id": "fadf37d2-cb35-4eb6-83fe-6029f83f7bc8",
   "metadata": {},
   "source": [
    "#### Q11:\n",
    "    a) Check the output of the function when the list doesn't contain -1"
   ]
  },
  {
   "cell_type": "code",
   "execution_count": 21,
   "id": "515067c3-00aa-4e60-a0f6-fe1d4b6a6826",
   "metadata": {},
   "outputs": [
    {
     "name": "stdout",
     "output_type": "stream",
     "text": [
      "None\n"
     ]
    }
   ],
   "source": [
    "A = [5, 2, 9, 3, 12, 0]\n",
    "result = find_negative_one(A)\n",
    "print(result)"
   ]
  },
  {
   "cell_type": "markdown",
   "id": "55338c72-6b94-463c-ac9b-eb29613f5d4b",
   "metadata": {},
   "source": [
    "The above result shows that the function does not return any value. Hence, the NoneType"
   ]
  },
  {
   "cell_type": "code",
   "execution_count": 22,
   "id": "ba08675c-835a-4bea-ab31-a3fa51d4bbf2",
   "metadata": {},
   "outputs": [],
   "source": [
    "def find_negative_one(A):\n",
    "    for ind in range(len(A)):\n",
    "        if A[ind] == -1:\n",
    "            return ind\n",
    "    return 'There is no -1 here'"
   ]
  },
  {
   "cell_type": "code",
   "execution_count": 23,
   "id": "11206230-1a1d-4394-8188-6a6f9ed38df5",
   "metadata": {},
   "outputs": [
    {
     "name": "stdout",
     "output_type": "stream",
     "text": [
      "There is no -1 here\n"
     ]
    }
   ],
   "source": [
    "A = [5, 2, 9, 3, 12, 0]\n",
    "result = find_negative_one(A)\n",
    "print(result)"
   ]
  },
  {
   "cell_type": "markdown",
   "id": "6dde07d5-b2ae-4839-a365-66aa110335f2",
   "metadata": {},
   "source": [
    "#### Q12:\n",
    "    a) Define a function which creates a dictionary record of students' grades from two separate lists of names and grades"
   ]
  },
  {
   "cell_type": "code",
   "execution_count": 24,
   "id": "4bf6f209-453c-4f0a-beb1-c7c67a57676b",
   "metadata": {},
   "outputs": [],
   "source": [
    "def get_combined_namegrades(names, grades):\n",
    "    return {names[ind]: grades[ind] for ind in range(len(names)) if len(names) == len(grades)}"
   ]
  },
  {
   "cell_type": "code",
   "execution_count": 25,
   "id": "92eff1b7-a38d-4e9d-b508-898b184c380e",
   "metadata": {},
   "outputs": [
    {
     "name": "stdout",
     "output_type": "stream",
     "text": [
      "{'Ada': 98, 'Bill': 45, 'Charlie': 63.2}\n"
     ]
    }
   ],
   "source": [
    "student_records = get_combined_namegrades(['Ada', 'Bill', 'Charlie'], [98, 45, 63.2])\n",
    "print(student_records)"
   ]
  },
  {
   "cell_type": "markdown",
   "id": "36e927c3-73b2-4fcc-88fb-7fbb38375b52",
   "metadata": {},
   "source": [
    "#### Q12:\n",
    "    b) Update a dictionary with items from another dictionary"
   ]
  },
  {
   "cell_type": "code",
   "execution_count": 26,
   "id": "504cf99d-accf-4907-a33c-76daaa8d1d1b",
   "metadata": {},
   "outputs": [
    {
     "name": "stdout",
     "output_type": "stream",
     "text": [
      "{'Teri': 35.0, 'Johanna': 52.5, 'Tomas': 37.8, 'Piotr': 65.0, 'Grzegorz': 64.8}\n"
     ]
    }
   ],
   "source": [
    "student_names, student_grades = [\"Teri\", \"Johanna\", \"Tomas\", \"Piotr\", \"Grzegorz\"], [35.0, 52.5, 37.8, 65.0, 64.8]\n",
    "student_recs2 = get_combined_namegrades(student_names, student_grades)\n",
    "print(student_recs2)"
   ]
  },
  {
   "cell_type": "code",
   "execution_count": 27,
   "id": "8d2f8112-3c57-4231-a3a0-a2baa4485ae8",
   "metadata": {},
   "outputs": [
    {
     "name": "stdout",
     "output_type": "stream",
     "text": [
      "{'Ada': 98, 'Bill': 45, 'Charlie': 63.2, 'Teri': 35.0, 'Johanna': 52.5, 'Tomas': 37.8, 'Piotr': 65.0, 'Grzegorz': 64.8}\n"
     ]
    }
   ],
   "source": [
    "student_records.update(student_recs2)\n",
    "print(student_records)"
   ]
  },
  {
   "cell_type": "markdown",
   "id": "d8bedcee-94b9-41af-a99b-b95c0e14310f",
   "metadata": {},
   "source": [
    "#### Q13:\n",
    "    Using dictitionary comprehension, filter a dictionary based on a fixed condition"
   ]
  },
  {
   "cell_type": "code",
   "execution_count": 28,
   "id": "685d7c69-0e4e-4f93-8a3d-c411b9884c7d",
   "metadata": {},
   "outputs": [
    {
     "name": "stdout",
     "output_type": "stream",
     "text": [
      "{'Ada': 98, 'Piotr': 65.0}\n"
     ]
    }
   ],
   "source": [
    "filtered_student_record = {name: grade for name, grade in student_records.items() if grade >= 65}\n",
    "print(filtered_student_record)"
   ]
  },
  {
   "cell_type": "markdown",
   "id": "a241c88c-138b-4d6d-a249-2977e6a302dd",
   "metadata": {},
   "source": [
    "#### Q14:\n",
    "    Define a function that converts a score into a class of grade"
   ]
  },
  {
   "cell_type": "code",
   "execution_count": 29,
   "id": "1923a6bd-4be4-4d81-adde-4288ed237efe",
   "metadata": {},
   "outputs": [],
   "source": [
    "def grade_to_classification(grade):\n",
    "    if grade < 40:\n",
    "        return 'Fail'\n",
    "    elif 40 <= grade < 50:\n",
    "        return 'Pass'\n",
    "    elif 50 <= grade < 60:\n",
    "        return '2:2'\n",
    "    elif 60 <= grade < 70:\n",
    "        return '2:1'\n",
    "    else:\n",
    "        return 'First'"
   ]
  },
  {
   "cell_type": "code",
   "execution_count": 30,
   "id": "e647870b-5022-4dda-9897-1c899661c9f0",
   "metadata": {},
   "outputs": [
    {
     "name": "stdout",
     "output_type": "stream",
     "text": [
      "{'Ada': 'First', 'Bill': 'Pass', 'Charlie': '2:1', 'Teri': 'Fail', 'Johanna': '2:2', 'Tomas': 'Fail', 'Piotr': '2:1', 'Grzegorz': '2:1'}\n"
     ]
    }
   ],
   "source": [
    "grade_class = {name: grade_to_classification(grade) for name, grade in student_records.items()}\n",
    "print(grade_class)"
   ]
  },
  {
   "cell_type": "markdown",
   "id": "4df96b49-30f9-46a2-bafc-c8af5fe06f9f",
   "metadata": {},
   "source": [
    "#### Q15:\n",
    "    Using list comprehension, convert a list of scores into class of grade"
   ]
  },
  {
   "cell_type": "code",
   "execution_count": 31,
   "id": "851d3c38-9ecb-437f-9788-3bd32b0e0240",
   "metadata": {},
   "outputs": [
    {
     "name": "stdout",
     "output_type": "stream",
     "text": [
      "['Fail', '2:2', 'Pass', 'First', 'First', '2:1', '2:2', 'Pass', 'First']\n"
     ]
    }
   ],
   "source": [
    "more_grades = [0.0, 50.0, 49.9, 79.0, 101.0, 65.0, 54.2, 48.2, 78.9]\n",
    "\n",
    "print([grade_to_classification(more_grades[ind]) for ind in range(len(more_grades))])"
   ]
  },
  {
   "cell_type": "markdown",
   "id": "4b04fd06-99f1-47c5-a220-9dd4abb46591",
   "metadata": {},
   "source": [
    "#### Q16:\n",
    "    a) List out the class of grade of only those that failed"
   ]
  },
  {
   "cell_type": "code",
   "execution_count": 32,
   "id": "8e7d8f2d-5616-48f9-9587-14aa2684e564",
   "metadata": {},
   "outputs": [
    {
     "name": "stdout",
     "output_type": "stream",
     "text": [
      "['Fail']\n"
     ]
    }
   ],
   "source": [
    "fail_result = [grade_to_classification(more_grades[ind]) for ind in range(len(more_grades)) if more_grades[ind] < 40]\n",
    "print(fail_result)"
   ]
  },
  {
   "cell_type": "code",
   "execution_count": 33,
   "id": "6ce0b1a1-ef5c-47dc-b91d-8048e5456cf3",
   "metadata": {},
   "outputs": [
    {
     "name": "stdout",
     "output_type": "stream",
     "text": [
      "['Fail']\n"
     ]
    }
   ],
   "source": [
    "# Alternatively:\n",
    "print( [grade_class for grade_class in [grade_to_classification(more_grades[ind] ) for ind in range(len(more_grades)) ] if grade_class == 'Fail'])"
   ]
  },
  {
   "cell_type": "markdown",
   "id": "4162a1a6-e62a-40a7-b19e-7c6b6af4012f",
   "metadata": {},
   "source": [
    "    b) Number of students that failed"
   ]
  },
  {
   "cell_type": "code",
   "execution_count": 34,
   "id": "98b5da71-287c-443f-a60a-6934c2b6267c",
   "metadata": {},
   "outputs": [
    {
     "name": "stdout",
     "output_type": "stream",
     "text": [
      "Number of students that failed: 1\n"
     ]
    }
   ],
   "source": [
    "print(\"Number of students that failed:\", len(fail_result))"
   ]
  },
  {
   "cell_type": "markdown",
   "id": "22ce63a2-8a44-42f3-96df-585be508b8eb",
   "metadata": {},
   "source": [
    "#### Q17:\n",
    "    Using list comprehension, fix the maximum score to be 100. Any score above the maximum is changed to 100"
   ]
  },
  {
   "cell_type": "code",
   "execution_count": 35,
   "id": "bae4162b-f032-4275-af83-ebf6dc1b62b3",
   "metadata": {},
   "outputs": [
    {
     "name": "stdout",
     "output_type": "stream",
     "text": [
      "[0.0, 50.0, 49.9, 79.0, 100, 65.0, 54.2, 48.2, 78.9]\n"
     ]
    }
   ],
   "source": [
    "more_grades = [0.0, 50.0, 49.9, 79.0, 101.0, 65.0, 54.2, 48.2, 78.9]\n",
    "\n",
    "fixed_result = [more_grades[ind] if more_grades[ind] <= 100 else 100 for ind in range(len(more_grades)) ]\n",
    "print(fixed_result)"
   ]
  },
  {
   "cell_type": "markdown",
   "id": "148c1a52-2ef8-4703-8a6f-07e20c798910",
   "metadata": {},
   "source": [
    "#### Q18:\n",
    "    Creating classes"
   ]
  },
  {
   "cell_type": "code",
   "execution_count": 36,
   "id": "ae6caad0-6cdd-4ae7-9351-47a8ed212f63",
   "metadata": {},
   "outputs": [],
   "source": [
    "class Student(object):\n",
    "    pass\n",
    "\n",
    "alex = Student()"
   ]
  },
  {
   "cell_type": "markdown",
   "id": "6b78e2a8-9609-45cf-9570-319ae0441be1",
   "metadata": {},
   "source": [
    "#### Q19:\n",
    "    Type check"
   ]
  },
  {
   "cell_type": "code",
   "execution_count": 37,
   "id": "10b56273-863d-44c3-a4d6-67268c430cc5",
   "metadata": {},
   "outputs": [
    {
     "name": "stdout",
     "output_type": "stream",
     "text": [
      "True\n"
     ]
    }
   ],
   "source": [
    "print(isinstance(alex, Student))"
   ]
  },
  {
   "cell_type": "code",
   "execution_count": 38,
   "id": "8790d0b5-2faf-48e7-a28f-6d02352101bc",
   "metadata": {},
   "outputs": [
    {
     "name": "stdout",
     "output_type": "stream",
     "text": [
      "True\n"
     ]
    }
   ],
   "source": [
    "# Alternatively:\n",
    "print(type(alex) == Student)"
   ]
  },
  {
   "cell_type": "markdown",
   "id": "65756240-aec8-4a86-8729-ee64bcf20ffb",
   "metadata": {},
   "source": [
    "#### Q20:\n",
    "    Create a constructor method for the Student class"
   ]
  },
  {
   "cell_type": "code",
   "execution_count": 39,
   "id": "5a8b0357-db1a-48b7-bb6d-3afd78e576cc",
   "metadata": {},
   "outputs": [
    {
     "name": "stdout",
     "output_type": "stream",
     "text": [
      "This gets called when I make a new student\n"
     ]
    }
   ],
   "source": [
    "class Student(object):\n",
    "    def __init__(self):\n",
    "        print(\"This gets called when I make a new student\")\n",
    "        \n",
    "alex = Student()"
   ]
  },
  {
   "cell_type": "markdown",
   "id": "ecbd2fec-bf27-4517-ac22-3cef04627e8d",
   "metadata": {},
   "source": [
    "#### Q21:\n",
    "    Create a Student class with name and grade as parameters of the constructor method __init__"
   ]
  },
  {
   "cell_type": "code",
   "execution_count": 40,
   "id": "e582e0a8-2301-46dc-952a-d058894b44fe",
   "metadata": {},
   "outputs": [],
   "source": [
    "class Student(object):\n",
    "    def __init__(self, name, grade):\n",
    "        self.name = name\n",
    "        self.grade = grade"
   ]
  },
  {
   "cell_type": "code",
   "execution_count": 41,
   "id": "c8377bfc-d19a-4314-995e-2113c414fb01",
   "metadata": {},
   "outputs": [
    {
     "ename": "TypeError",
     "evalue": "__init__() missing 2 required positional arguments: 'name' and 'grade'",
     "output_type": "error",
     "traceback": [
      "\u001b[1;31m---------------------------------------------------------------------------\u001b[0m",
      "\u001b[1;31mTypeError\u001b[0m                                 Traceback (most recent call last)",
      "\u001b[1;32m~\\AppData\\Local\\Temp/ipykernel_13156/721577484.py\u001b[0m in \u001b[0;36m<module>\u001b[1;34m\u001b[0m\n\u001b[1;32m----> 1\u001b[1;33m \u001b[0malex\u001b[0m \u001b[1;33m=\u001b[0m \u001b[0mStudent\u001b[0m\u001b[1;33m(\u001b[0m\u001b[1;33m)\u001b[0m\u001b[1;33m\u001b[0m\u001b[1;33m\u001b[0m\u001b[0m\n\u001b[0m",
      "\u001b[1;31mTypeError\u001b[0m: __init__() missing 2 required positional arguments: 'name' and 'grade'"
     ]
    }
   ],
   "source": [
    "alex = Student()"
   ]
  },
  {
   "cell_type": "markdown",
   "id": "3c04459d-9ec4-4099-9312-05e71bd007c6",
   "metadata": {},
   "source": [
    "Now, we have to provide two arguments, name and grade, when creating an instance of our Student class"
   ]
  },
  {
   "cell_type": "markdown",
   "id": "103dcab7-6968-4325-9eb2-e3267a6dc068",
   "metadata": {},
   "source": [
    "#### Q22:\n",
    "    Create a student object with appropriate arguments"
   ]
  },
  {
   "cell_type": "code",
   "execution_count": 42,
   "id": "5ab42c59-6e96-40b2-bec4-c12d7a060397",
   "metadata": {},
   "outputs": [],
   "source": [
    "osagie = Student(name='Osagie', grade=100)"
   ]
  },
  {
   "cell_type": "markdown",
   "id": "56f8af0a-1f61-46b9-ad95-8195ef5d7c67",
   "metadata": {},
   "source": [
    "#### Q23:\n",
    "    Create a list of Student objects"
   ]
  },
  {
   "cell_type": "code",
   "execution_count": 43,
   "id": "f94b7890-e6f3-4daa-8ed4-23ad41872df2",
   "metadata": {},
   "outputs": [
    {
     "name": "stdout",
     "output_type": "stream",
     "text": [
      "<__main__.Student object at 0x0000024AF468E250>\n"
     ]
    }
   ],
   "source": [
    "some_students = [Student('Alex', 99), Student('Rob', 35.0), Student('Tasha', 70.0)]\n",
    "print(some_students[0])"
   ]
  },
  {
   "cell_type": "markdown",
   "id": "ecb9f94b-e970-4721-8b59-a3feea411506",
   "metadata": {},
   "source": [
    "#### Q24:\n",
    "    Create a grade classification method for our Student class"
   ]
  },
  {
   "cell_type": "code",
   "execution_count": 44,
   "id": "c2430be9-a62b-4b04-9439-0ff8f0a4d595",
   "metadata": {},
   "outputs": [],
   "source": [
    "class Student(object):\n",
    "    def __init__(self, name, grade,):\n",
    "        self.name = name\n",
    "        self.grade = grade\n",
    "        \n",
    "    def get_classification(self):\n",
    "        if self.grade < 40:\n",
    "            return 'Fail'\n",
    "        elif 40 <= self.grade < 50:\n",
    "            return 'Pass'\n",
    "        elif 50 <= self.grade < 60:\n",
    "            return '2:2'\n",
    "        elif 60 <= self.grade < 70:\n",
    "            return '2.1'\n",
    "        else:\n",
    "            return 'First'"
   ]
  },
  {
   "cell_type": "code",
   "execution_count": 45,
   "id": "82dc7f0a-b004-41f9-a13d-3f247de471ad",
   "metadata": {},
   "outputs": [
    {
     "name": "stdout",
     "output_type": "stream",
     "text": [
      "First\n"
     ]
    }
   ],
   "source": [
    "alex = Student('Alex', 99)\n",
    "print(alex.get_classification() )"
   ]
  },
  {
   "cell_type": "code",
   "execution_count": 46,
   "id": "4b2e6b83-c721-4e67-a001-14d5aa2732b1",
   "metadata": {},
   "outputs": [
    {
     "name": "stdout",
     "output_type": "stream",
     "text": [
      "Fail\n"
     ]
    }
   ],
   "source": [
    "rob = Student('Rob', 35.0)\n",
    "print(rob.get_classification())"
   ]
  },
  {
   "cell_type": "markdown",
   "id": "5798d55f-6598-49c1-95b8-8eadf5bc5c90",
   "metadata": {},
   "source": [
    "#### Extended Exercise 1: PALINDROME"
   ]
  },
  {
   "cell_type": "code",
   "execution_count": 47,
   "id": "fb6f0903-d672-4e34-93f6-8bd4d3968d6b",
   "metadata": {},
   "outputs": [],
   "source": [
    "# print( ''.join(vari[0].split(' ')) == ''.join(vari[0][::-1].split(' ')))\n",
    "# print( ''.join(vari[1].split(' ')) == ''.join(vari[1][::-1].split(' ')))\n",
    "# print( ''.join(vari[2].split(' ')) == ''.join(vari[2][::-1].split(' ')))"
   ]
  },
  {
   "cell_type": "code",
   "execution_count": 48,
   "id": "6043a28a-62a1-4c90-a154-669adcfb4d77",
   "metadata": {},
   "outputs": [
    {
     "name": "stdout",
     "output_type": "stream",
     "text": [
      "[True, True, False]\n"
     ]
    }
   ],
   "source": [
    "def palindrome_check(input_list):\n",
    "    return [True if ''.join(input_list[ind].split(' ')) == ''.join(input_list[ind][::-1].split(' ')) else False for ind in range(len(input_list)) ]\n",
    "\n",
    "inp_list = [ \"taco cat\", \"bob\", \"davey\" ]\n",
    "print(palindrome_check(inp_list) )"
   ]
  },
  {
   "cell_type": "code",
   "execution_count": 49,
   "id": "3cd0923a-e861-42fb-ae43-76c9713b320d",
   "metadata": {},
   "outputs": [
    {
     "name": "stdout",
     "output_type": "stream",
     "text": [
      "[True, False, True]\n"
     ]
    }
   ],
   "source": [
    "vari = ['racecar', 'you are good', 'taco cat' ]\n",
    "print(palindrome_check(vari) )"
   ]
  },
  {
   "cell_type": "markdown",
   "id": "e83c1f0e-016a-436e-b784-17ff88743b29",
   "metadata": {},
   "source": [
    "``-- THE END --``"
   ]
  }
 ],
 "metadata": {
  "kernelspec": {
   "display_name": "Python 3",
   "language": "python",
   "name": "python3"
  },
  "language_info": {
   "codemirror_mode": {
    "name": "ipython",
    "version": 3
   },
   "file_extension": ".py",
   "mimetype": "text/x-python",
   "name": "python",
   "nbconvert_exporter": "python",
   "pygments_lexer": "ipython3",
   "version": "3.9.5"
  }
 },
 "nbformat": 4,
 "nbformat_minor": 5
}
