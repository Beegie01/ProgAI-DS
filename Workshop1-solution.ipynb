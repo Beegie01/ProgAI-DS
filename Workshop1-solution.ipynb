{
 "cells": [
  {
   "cell_type": "markdown",
   "id": "126928a3-0a68-4611-9ee2-9e6b3abd9257",
   "metadata": {},
   "source": [
    "# Program: Artificial Intelligence and Data Science\n",
    "# Student ID: <202115576>"
   ]
  },
  {
   "cell_type": "markdown",
   "id": "645f2aff",
   "metadata": {},
   "source": [
    "#### Exercise 1"
   ]
  },
  {
   "cell_type": "markdown",
   "id": "42750aee",
   "metadata": {},
   "source": [
    "```python\n",
    "    (venv) C:\\Users\\welcome>python\n",
    "    Python 3.9.7 (tags/v3.9.7:1016ef3, Aug 30 2021, 20:19:38) [MSC v.1929 64 bit (AMD64)] on win32\n",
    "    Type \"help\", \"copyright\", \"credits\" or \"license\" for more information.\n",
    "    >>> print('hello world')\n",
    "    hello world\n",
    "    >>>\n",
    "```"
   ]
  },
  {
   "cell_type": "markdown",
   "id": "e48e9790",
   "metadata": {},
   "source": [
    "#### Exercise 2"
   ]
  },
  {
   "cell_type": "markdown",
   "id": "82868c4b",
   "metadata": {},
   "source": [
    "```python\n",
    "    >>> type(932)\n",
    "    <class 'int'>\n",
    "    >>> type('University of Hull')\n",
    "    <class 'str'>\n",
    "    >>> type(3.303)\n",
    "    <class 'float'>\n",
    "    >>> type(True)\n",
    "    <class 'bool'>\n",
    "    >>> type(None)\n",
    "    <class 'NoneType'>\n",
    "    >>> type(3+3j)\n",
    "    <class 'complex'>\n",
    "    >>> alist = ['osagie', 'male', 'NGA']\n",
    "    >>> type(alist)\n",
    "    <class 'list'>\n",
    "    >>> atuple = ('princess', 'female', 'UK')\n",
    "    >>> type(atuple)\n",
    "    <class 'tuple'>\n",
    "    >>> adict = {'first_name': ['osagie', 'princess'], 'gender': ['male', 'female'], 'country': ['NGA', 'UK']}\n",
    "    >>> type(adict)\n",
    "    <class 'dict'>\n",
    "```"
   ]
  },
  {
   "cell_type": "markdown",
   "id": "08a441b5",
   "metadata": {},
   "source": [
    "#### Exercise 3"
   ]
  },
  {
   "cell_type": "markdown",
   "id": "af1442e7",
   "metadata": {},
   "source": [
    "```python\n",
    "    >>> str(932)\n",
    "    '932'\n",
    "    >>> float(932)\n",
    "    932.0\n",
    "    >>> int(933.6)\n",
    "    933\n",
    "    >>> list(atuple)\n",
    "    ['princess', 'female', 'UK']\n",
    "    >>> tuple(alist)\n",
    "    ('osagie', 'male', 'NGA')\n",
    "```"
   ]
  },
  {
   "cell_type": "markdown",
   "id": "ae04d751",
   "metadata": {},
   "source": [
    "#### Exercise 4"
   ]
  },
  {
   "cell_type": "markdown",
   "id": "dc9094fa",
   "metadata": {},
   "source": [
    "```python\n",
    "    >>> type(3+4)\n",
    "    <class 'int'>\n",
    "    >>> type(3.0+4)\n",
    "    <class 'float'>\n",
    "    >>> type(37%7**2)\n",
    "    <class 'int'>\n",
    "    >>> type('bob'+'cat')\n",
    "    <class 'str'>\n",
    "    >>> type('bob'/'cat')\n",
    "    Traceback (most recent call last):\n",
    "      File \"<stdin>\", line 1, in <module>\n",
    "    TypeError: unsupported operand type(s) for /: 'str' and 'str'\n",
    "    >>> type(\"banana\"+\"na\"*20)\n",
    "    <class 'str'>\n",
    "    >>> type(\"banana\"-\"na\")\n",
    "    Traceback (most recent call last):\n",
    "      File \"<stdin>\", line 1, in <module>\n",
    "    TypeError: unsupported operand type(s) for -: 'str' and 'str'\n",
    "```"
   ]
  },
  {
   "cell_type": "markdown",
   "id": "59200f05-6f59-45ac-907c-3bb1c1b5924d",
   "metadata": {},
   "source": [
    "#### Exercise 5"
   ]
  },
  {
   "cell_type": "markdown",
   "id": "b3eea15a-7e57-4570-ae1b-b118719dc9c4",
   "metadata": {},
   "source": [
    "```python\n",
    ">>> 12+28/7*2\n",
    "20.0\n",
    "```\n",
    "1. The result of the above expression is 20, because:\n",
    "\n",
    "    step 1: 28/7 ==> 4;\n",
    "\n",
    "    step 2: 4 * 2 ==> 8;\n",
    "\n",
    "    step 3: 12 + 8 ==> 20.\n",
    "\n",
    "\n",
    "2. The overall type of the result is float, because a division operation always results in a floating point number.\n",
    "\n",
    "\n",
    "\n",
    "\n",
    "3. As given below:\n",
    "```python\n",
    "    >>> 12 + ( (28/7) * 2)\n",
    "    20.0\n",
    "    ```"
   ]
  },
  {
   "cell_type": "markdown",
   "id": "59705501-33ba-4019-b86a-f6f59752cf88",
   "metadata": {},
   "source": [
    "#### Exercise 6"
   ]
  },
  {
   "cell_type": "markdown",
   "id": "12ed877e-ac82-4e6d-abd8-23cbbb42a0ce",
   "metadata": {},
   "source": [
    "```python\n",
    "    >>> ft, ns = 42.0, 97\n",
    "    >>> ft+ns\n",
    "    139.0\n",
    "    >>> ft-ns\n",
    "    -55.0\n",
    "    >>> ft/ns\n",
    "    0.4329896907216495\n",
    "    >>> ft*ns\n",
    "    4074.0\n",
    "    >>> addn = ft+ns\n",
    "    >>> subn = ft-ns\n",
    "    >>> divn = ft/ns\n",
    "    >>> muln = ft*ns\n",
    "    >>> print(addn, subn, muln, divn)\n",
    "    139.0 -55.0 4074.0 0.4329896907216495\n",
    "    >>> print(\"Addition: {}, Subtraction: {}, Multiplication: {}, Division: {}\".format(addn, subn, muln, divn))\n",
    "    Addition: 139.0, Subtraction: -55.0, Multiplication: 4074.0, Division: 0.4329896907216495\n",
    "    >>> \n",
    "```"
   ]
  },
  {
   "cell_type": "markdown",
   "id": "d45b371a-baeb-4f86-8eb7-611ff91d32bd",
   "metadata": {},
   "source": [
    "#### Exercise 7"
   ]
  },
  {
   "cell_type": "markdown",
   "id": "de41b522-ee94-4f3e-a042-c6e67cd39592",
   "metadata": {},
   "source": [
    "```python\n",
    ">>> ft = \"banana\"+\"na\"*20\n",
    ">>> print(ft)\n",
    "banananananananananananananananananananananana\n",
    "```"
   ]
  },
  {
   "cell_type": "markdown",
   "id": "b690af0c-2cdf-4edc-97a0-45c1388e5b8b",
   "metadata": {},
   "source": [
    "#### Exercise 8"
   ]
  },
  {
   "cell_type": "code",
   "execution_count": 3,
   "id": "6981fb7f-7b53-4bf1-b08b-80b5cad47193",
   "metadata": {},
   "outputs": [
    {
     "name": "stdout",
     "output_type": "stream",
     "text": [
      "Hello world\n"
     ]
    }
   ],
   "source": [
    "print('Hello world')"
   ]
  },
  {
   "cell_type": "code",
   "execution_count": 4,
   "id": "de8a2d46-9411-4df4-b2f7-ff4d93e29c96",
   "metadata": {},
   "outputs": [
    {
     "data": {
      "text/plain": [
       "int"
      ]
     },
     "execution_count": 4,
     "metadata": {},
     "output_type": "execute_result"
    }
   ],
   "source": [
    "type(932)"
   ]
  },
  {
   "cell_type": "code",
   "execution_count": 5,
   "id": "2e0f21bf-2d7f-4773-a1b6-82a621606cca",
   "metadata": {},
   "outputs": [
    {
     "data": {
      "text/plain": [
       "str"
      ]
     },
     "execution_count": 5,
     "metadata": {},
     "output_type": "execute_result"
    }
   ],
   "source": [
    "type('University of Hull')"
   ]
  },
  {
   "cell_type": "code",
   "execution_count": 6,
   "id": "7edbfd91-3e61-4128-b3a8-e3f9daffac89",
   "metadata": {},
   "outputs": [
    {
     "data": {
      "text/plain": [
       "float"
      ]
     },
     "execution_count": 6,
     "metadata": {},
     "output_type": "execute_result"
    }
   ],
   "source": [
    "type(3.303)"
   ]
  },
  {
   "cell_type": "code",
   "execution_count": 7,
   "id": "ac36106d-ec20-49b2-991d-fc438a6a7ed3",
   "metadata": {},
   "outputs": [
    {
     "data": {
      "text/plain": [
       "bool"
      ]
     },
     "execution_count": 7,
     "metadata": {},
     "output_type": "execute_result"
    }
   ],
   "source": [
    "type(True)"
   ]
  },
  {
   "cell_type": "code",
   "execution_count": 8,
   "id": "12d55ead-436b-40b8-8c4b-aa04b30a6fc8",
   "metadata": {},
   "outputs": [
    {
     "data": {
      "text/plain": [
       "NoneType"
      ]
     },
     "execution_count": 8,
     "metadata": {},
     "output_type": "execute_result"
    }
   ],
   "source": [
    "type(None)"
   ]
  },
  {
   "cell_type": "code",
   "execution_count": 9,
   "id": "ec4584d7-8627-474d-b552-328237c3d2aa",
   "metadata": {},
   "outputs": [
    {
     "data": {
      "text/plain": [
       "complex"
      ]
     },
     "execution_count": 9,
     "metadata": {},
     "output_type": "execute_result"
    }
   ],
   "source": [
    "type(3+3j)"
   ]
  },
  {
   "cell_type": "code",
   "execution_count": 10,
   "id": "28a8b4ce-2702-4d97-b014-e1f849ea016b",
   "metadata": {},
   "outputs": [
    {
     "data": {
      "text/plain": [
       "list"
      ]
     },
     "execution_count": 10,
     "metadata": {},
     "output_type": "execute_result"
    }
   ],
   "source": [
    "alist = ['osagie', 'male', 'NGA']\n",
    "type(alist)"
   ]
  },
  {
   "cell_type": "code",
   "execution_count": 11,
   "id": "709b4c12-703b-45e7-8084-87a4bd052e4e",
   "metadata": {},
   "outputs": [
    {
     "data": {
      "text/plain": [
       "tuple"
      ]
     },
     "execution_count": 11,
     "metadata": {},
     "output_type": "execute_result"
    }
   ],
   "source": [
    "atuple = ('princess', 'female', 'UK')\n",
    "type(atuple)"
   ]
  },
  {
   "cell_type": "code",
   "execution_count": 13,
   "id": "fbb0c392-353a-4dc5-80ac-1a865666f54c",
   "metadata": {},
   "outputs": [
    {
     "data": {
      "text/plain": [
       "dict"
      ]
     },
     "execution_count": 13,
     "metadata": {},
     "output_type": "execute_result"
    }
   ],
   "source": [
    "adict = {'first_name': ['osagie', 'princess'], 'gender': ['male', 'female'], 'country': ['NGA', 'UK']}\n",
    "type(adict)"
   ]
  },
  {
   "cell_type": "code",
   "execution_count": 14,
   "id": "7b48fdd0-6282-4b29-8a13-dad0046f75e3",
   "metadata": {},
   "outputs": [
    {
     "data": {
      "text/plain": [
       "'932'"
      ]
     },
     "execution_count": 14,
     "metadata": {},
     "output_type": "execute_result"
    }
   ],
   "source": [
    "str(932)"
   ]
  },
  {
   "cell_type": "code",
   "execution_count": 15,
   "id": "5d2c841d-4ede-45df-8a73-437375fd355f",
   "metadata": {},
   "outputs": [
    {
     "data": {
      "text/plain": [
       "932.0"
      ]
     },
     "execution_count": 15,
     "metadata": {},
     "output_type": "execute_result"
    }
   ],
   "source": [
    "float(932)"
   ]
  },
  {
   "cell_type": "code",
   "execution_count": 16,
   "id": "ce4cd7e8-56cd-4d78-8db1-b1e065fb58fe",
   "metadata": {},
   "outputs": [
    {
     "data": {
      "text/plain": [
       "['princess', 'female', 'UK']"
      ]
     },
     "execution_count": 16,
     "metadata": {},
     "output_type": "execute_result"
    }
   ],
   "source": [
    "list(atuple)"
   ]
  },
  {
   "cell_type": "code",
   "execution_count": 17,
   "id": "b5f83479-f818-41ba-b91a-7b9101176b3e",
   "metadata": {},
   "outputs": [
    {
     "data": {
      "text/plain": [
       "('osagie', 'male', 'NGA')"
      ]
     },
     "execution_count": 17,
     "metadata": {},
     "output_type": "execute_result"
    }
   ],
   "source": [
    "tuple(alist)"
   ]
  },
  {
   "cell_type": "code",
   "execution_count": 18,
   "id": "929a97fb-e766-46c4-ab3b-f71825b63938",
   "metadata": {},
   "outputs": [
    {
     "data": {
      "text/plain": [
       "int"
      ]
     },
     "execution_count": 18,
     "metadata": {},
     "output_type": "execute_result"
    }
   ],
   "source": [
    " type(3+4)"
   ]
  },
  {
   "cell_type": "code",
   "execution_count": 19,
   "id": "2e628c5c-c2b5-4820-8f95-36a38d9d5741",
   "metadata": {},
   "outputs": [
    {
     "data": {
      "text/plain": [
       "float"
      ]
     },
     "execution_count": 19,
     "metadata": {},
     "output_type": "execute_result"
    }
   ],
   "source": [
    "type(3.0+4)"
   ]
  },
  {
   "cell_type": "code",
   "execution_count": 20,
   "id": "68e7c0e9-367b-44e6-a8ab-6e754decf79a",
   "metadata": {},
   "outputs": [
    {
     "data": {
      "text/plain": [
       "int"
      ]
     },
     "execution_count": 20,
     "metadata": {},
     "output_type": "execute_result"
    }
   ],
   "source": [
    "type(37%7**2)"
   ]
  },
  {
   "cell_type": "code",
   "execution_count": 21,
   "id": "cd0e5d89-c08d-4362-8910-264d23464f8f",
   "metadata": {},
   "outputs": [
    {
     "data": {
      "text/plain": [
       "str"
      ]
     },
     "execution_count": 21,
     "metadata": {},
     "output_type": "execute_result"
    }
   ],
   "source": [
    "type('bob'+'cat')"
   ]
  },
  {
   "cell_type": "code",
   "execution_count": 22,
   "id": "a39ecfe9-1133-4f38-844b-1d9295020006",
   "metadata": {},
   "outputs": [
    {
     "ename": "TypeError",
     "evalue": "unsupported operand type(s) for /: 'str' and 'str'",
     "output_type": "error",
     "traceback": [
      "\u001b[1;31m---------------------------------------------------------------------------\u001b[0m",
      "\u001b[1;31mTypeError\u001b[0m                                 Traceback (most recent call last)",
      "\u001b[1;32m~\\AppData\\Local\\Temp/ipykernel_11496/2384806766.py\u001b[0m in \u001b[0;36m<module>\u001b[1;34m\u001b[0m\n\u001b[1;32m----> 1\u001b[1;33m \u001b[0mtype\u001b[0m\u001b[1;33m(\u001b[0m\u001b[1;34m'bob'\u001b[0m\u001b[1;33m/\u001b[0m\u001b[1;34m'cat'\u001b[0m\u001b[1;33m)\u001b[0m\u001b[1;33m\u001b[0m\u001b[1;33m\u001b[0m\u001b[0m\n\u001b[0m",
      "\u001b[1;31mTypeError\u001b[0m: unsupported operand type(s) for /: 'str' and 'str'"
     ]
    }
   ],
   "source": [
    "type('bob'/'cat')"
   ]
  },
  {
   "cell_type": "code",
   "execution_count": 23,
   "id": "33115163-35b4-4b0c-8688-2fe487277d3e",
   "metadata": {},
   "outputs": [
    {
     "data": {
      "text/plain": [
       "str"
      ]
     },
     "execution_count": 23,
     "metadata": {},
     "output_type": "execute_result"
    }
   ],
   "source": [
    "type(\"banana\"+\"na\"*20)"
   ]
  },
  {
   "cell_type": "code",
   "execution_count": 24,
   "id": "f1017447-b59e-4472-9168-2b5fcfe6cc48",
   "metadata": {},
   "outputs": [
    {
     "ename": "TypeError",
     "evalue": "unsupported operand type(s) for -: 'str' and 'str'",
     "output_type": "error",
     "traceback": [
      "\u001b[1;31m---------------------------------------------------------------------------\u001b[0m",
      "\u001b[1;31mTypeError\u001b[0m                                 Traceback (most recent call last)",
      "\u001b[1;32m~\\AppData\\Local\\Temp/ipykernel_11496/359135985.py\u001b[0m in \u001b[0;36m<module>\u001b[1;34m\u001b[0m\n\u001b[1;32m----> 1\u001b[1;33m \u001b[0mtype\u001b[0m\u001b[1;33m(\u001b[0m\u001b[1;34m\"banana\"\u001b[0m\u001b[1;33m-\u001b[0m\u001b[1;34m\"na\"\u001b[0m\u001b[1;33m)\u001b[0m\u001b[1;33m\u001b[0m\u001b[1;33m\u001b[0m\u001b[0m\n\u001b[0m",
      "\u001b[1;31mTypeError\u001b[0m: unsupported operand type(s) for -: 'str' and 'str'"
     ]
    }
   ],
   "source": [
    "type(\"banana\"-\"na\")"
   ]
  },
  {
   "cell_type": "code",
   "execution_count": 25,
   "id": "2c71c69a-38bb-4277-95fc-323ae2a94e31",
   "metadata": {},
   "outputs": [
    {
     "data": {
      "text/plain": [
       "20.0"
      ]
     },
     "execution_count": 25,
     "metadata": {},
     "output_type": "execute_result"
    }
   ],
   "source": [
    "12+28/7*2"
   ]
  },
  {
   "cell_type": "code",
   "execution_count": 26,
   "id": "02ac4205-3033-4829-954a-d8cf5f9c3625",
   "metadata": {},
   "outputs": [
    {
     "data": {
      "text/plain": [
       "20.0"
      ]
     },
     "execution_count": 26,
     "metadata": {},
     "output_type": "execute_result"
    }
   ],
   "source": [
    "12 + ( (28/7) * 2)"
   ]
  },
  {
   "cell_type": "code",
   "execution_count": 27,
   "id": "9fe732bd-42d4-4448-918e-2c35a3e455c2",
   "metadata": {},
   "outputs": [],
   "source": [
    "ft, ns = 42.0, 97"
   ]
  },
  {
   "cell_type": "code",
   "execution_count": 28,
   "id": "14732f8c-d6ac-4f4e-91ee-74f79927c5c9",
   "metadata": {},
   "outputs": [
    {
     "data": {
      "text/plain": [
       "139.0"
      ]
     },
     "execution_count": 28,
     "metadata": {},
     "output_type": "execute_result"
    }
   ],
   "source": [
    " ft+ns"
   ]
  },
  {
   "cell_type": "code",
   "execution_count": 29,
   "id": "b06a8765-aca5-46f7-b421-552811b96be8",
   "metadata": {},
   "outputs": [
    {
     "data": {
      "text/plain": [
       "-55.0"
      ]
     },
     "execution_count": 29,
     "metadata": {},
     "output_type": "execute_result"
    }
   ],
   "source": [
    "ft-ns"
   ]
  },
  {
   "cell_type": "code",
   "execution_count": 30,
   "id": "02b201d0-d710-48a5-ae19-3172351eb411",
   "metadata": {},
   "outputs": [
    {
     "data": {
      "text/plain": [
       "0.4329896907216495"
      ]
     },
     "execution_count": 30,
     "metadata": {},
     "output_type": "execute_result"
    }
   ],
   "source": [
    "ft/ns"
   ]
  },
  {
   "cell_type": "code",
   "execution_count": 31,
   "id": "23500f6d-4742-4ed5-829d-1dbf851bf79d",
   "metadata": {},
   "outputs": [
    {
     "data": {
      "text/plain": [
       "4074.0"
      ]
     },
     "execution_count": 31,
     "metadata": {},
     "output_type": "execute_result"
    }
   ],
   "source": [
    "ft*ns"
   ]
  },
  {
   "cell_type": "code",
   "execution_count": 32,
   "id": "2103471c-6a56-4b94-b3ef-27fa5ea258fe",
   "metadata": {},
   "outputs": [],
   "source": [
    "addn = ft+ns\n",
    "subn = ft-ns\n",
    "divn = ft/ns\n",
    "muln = ft*ns"
   ]
  },
  {
   "cell_type": "code",
   "execution_count": 33,
   "id": "4d163f2b-eff7-458e-b041-a98bb7dbe4d4",
   "metadata": {},
   "outputs": [
    {
     "name": "stdout",
     "output_type": "stream",
     "text": [
      "139.0 -55.0 4074.0 0.4329896907216495\n"
     ]
    }
   ],
   "source": [
    "print(addn, subn, muln, divn)"
   ]
  },
  {
   "cell_type": "code",
   "execution_count": 34,
   "id": "e120cbeb-7832-40dc-b9ca-c5fc00b5a6e9",
   "metadata": {},
   "outputs": [
    {
     "name": "stdout",
     "output_type": "stream",
     "text": [
      "Addition: 139.0, Subtraction: -55.0, Multiplication: 4074.0, Division: 0.4329896907216495\n"
     ]
    }
   ],
   "source": [
    "print(\"Addition: {}, Subtraction: {}, Multiplication: {}, Division: {}\".format(addn, subn, muln, divn))"
   ]
  },
  {
   "cell_type": "markdown",
   "id": "3b1ccf6e-3398-42db-a3de-4b9294c3cb92",
   "metadata": {},
   "source": [
    "#### Exercise 10"
   ]
  },
  {
   "cell_type": "code",
   "execution_count": 1,
   "id": "2411430d-618b-4ad7-9dc2-8db034e08f4f",
   "metadata": {},
   "outputs": [
    {
     "data": {
      "text/plain": [
       "True"
      ]
     },
     "execution_count": 1,
     "metadata": {},
     "output_type": "execute_result"
    }
   ],
   "source": [
    "'ada' < 'bill'"
   ]
  },
  {
   "cell_type": "code",
   "execution_count": 2,
   "id": "9d7ebf78",
   "metadata": {},
   "outputs": [
    {
     "data": {
      "text/plain": [
       "True"
      ]
     },
     "execution_count": 2,
     "metadata": {},
     "output_type": "execute_result"
    }
   ],
   "source": [
    "'ada' < 'adb'"
   ]
  },
  {
   "cell_type": "code",
   "execution_count": 3,
   "id": "742e2f57",
   "metadata": {},
   "outputs": [
    {
     "data": {
      "text/plain": [
       "True"
      ]
     },
     "execution_count": 3,
     "metadata": {},
     "output_type": "execute_result"
    }
   ],
   "source": [
    "'ada' < 'adalovelace'"
   ]
  },
  {
   "cell_type": "code",
   "execution_count": 4,
   "id": "fcd18b49",
   "metadata": {},
   "outputs": [
    {
     "data": {
      "text/plain": [
       "False"
      ]
     },
     "execution_count": 4,
     "metadata": {},
     "output_type": "execute_result"
    }
   ],
   "source": [
    "'adag' < 'adab'"
   ]
  },
  {
   "cell_type": "markdown",
   "id": "3d9f97e6",
   "metadata": {},
   "source": [
    "#### Exercise 11"
   ]
  },
  {
   "cell_type": "code",
   "execution_count": 5,
   "id": "2a965304",
   "metadata": {},
   "outputs": [
    {
     "name": "stdout",
     "output_type": "stream",
     "text": [
      "What is your name?: blessing\n"
     ]
    }
   ],
   "source": [
    "their_name = input('What is your name?: ')\n",
    "if their_name.lower() == 'osagie':\n",
    "    print(\"I'm called that too\")"
   ]
  },
  {
   "cell_type": "markdown",
   "id": "b5a72af6",
   "metadata": {},
   "source": [
    "#### Exercise 12"
   ]
  },
  {
   "cell_type": "code",
   "execution_count": 16,
   "id": "31dc7c77",
   "metadata": {},
   "outputs": [
    {
     "name": "stdout",
     "output_type": "stream",
     "text": [
      "What is your name?: Aibangbee\n",
      "I'm called that too\n"
     ]
    }
   ],
   "source": [
    "their_name = input('What is your name?: ')\n",
    "if their_name.lower() in ['osagie', 'aibangbee']:\n",
    "    print(\"I'm called that too\")"
   ]
  },
  {
   "cell_type": "markdown",
   "id": "c5427fe4",
   "metadata": {},
   "source": [
    "#### Alternatively"
   ]
  },
  {
   "cell_type": "code",
   "execution_count": 17,
   "id": "72de704b",
   "metadata": {},
   "outputs": [
    {
     "name": "stdout",
     "output_type": "stream",
     "text": [
      "What is your name?: Elliot\n"
     ]
    }
   ],
   "source": [
    "their_name = input('What is your name?: ')\n",
    "if (their_name.lower() == 'osagie') or (their_name.lower() == 'aibangbee'):\n",
    "    print(\"I'm called that too\")"
   ]
  },
  {
   "cell_type": "markdown",
   "id": "7078f655",
   "metadata": {},
   "source": [
    "#### Exercise 13"
   ]
  },
  {
   "cell_type": "markdown",
   "id": "a3a409d4",
   "metadata": {},
   "source": [
    "|a|b|c|a and b|(a and b) or c|\n",
    "| --- | --- | --- | ------- | ------- |\n",
    "|True|True|True|True|True|\n",
    "|True|False|True|False|True|\n",
    "|False|True|True|False|True|\n",
    "|False|False|True|**False**|True|\n",
    "|True|True|False|True|True|\n",
    "|True|False|False|False|False|\n",
    "|False|True|False|False|False|"
   ]
  },
  {
   "cell_type": "code",
   "execution_count": 30,
   "id": "e7057b18",
   "metadata": {},
   "outputs": [
    {
     "data": {
      "text/plain": [
       "True"
      ]
     },
     "execution_count": 30,
     "metadata": {},
     "output_type": "execute_result"
    }
   ],
   "source": [
    "True and True"
   ]
  },
  {
   "cell_type": "code",
   "execution_count": 31,
   "id": "9e212143",
   "metadata": {},
   "outputs": [
    {
     "data": {
      "text/plain": [
       "True"
      ]
     },
     "execution_count": 31,
     "metadata": {},
     "output_type": "execute_result"
    }
   ],
   "source": [
    "True or True"
   ]
  },
  {
   "cell_type": "code",
   "execution_count": 32,
   "id": "ab74b775",
   "metadata": {},
   "outputs": [
    {
     "data": {
      "text/plain": [
       "False"
      ]
     },
     "execution_count": 32,
     "metadata": {},
     "output_type": "execute_result"
    }
   ],
   "source": [
    "True and False"
   ]
  },
  {
   "cell_type": "code",
   "execution_count": 33,
   "id": "c552c528",
   "metadata": {},
   "outputs": [
    {
     "data": {
      "text/plain": [
       "True"
      ]
     },
     "execution_count": 33,
     "metadata": {},
     "output_type": "execute_result"
    }
   ],
   "source": [
    "True or False"
   ]
  },
  {
   "cell_type": "code",
   "execution_count": 34,
   "id": "21b1d1d1",
   "metadata": {},
   "outputs": [
    {
     "data": {
      "text/plain": [
       "False"
      ]
     },
     "execution_count": 34,
     "metadata": {},
     "output_type": "execute_result"
    }
   ],
   "source": [
    "False and False"
   ]
  },
  {
   "cell_type": "markdown",
   "id": "11aca4fb-77bb-4844-91ac-ba232c2a32d4",
   "metadata": {},
   "source": [
    "#### Exercise 14"
   ]
  },
  {
   "cell_type": "markdown",
   "id": "0bdfbe4f-ae6b-4bae-9d7a-b71d2a0efb4b",
   "metadata": {},
   "source": [
    "|a|b|c|a and b|(a and b) or not c|\n",
    "| --- | --- | --- | ------- | ------- |\n",
    "|True|True|True|True|True|\n",
    "|True|False|True|False|False|\n",
    "|False|True|True|False|False|\n",
    "|False|False|True|False|False|\n",
    "|True|True|False|True|True|\n",
    "|True|False|False|False|True|\n",
    "|False|True|False|False|True|"
   ]
  },
  {
   "cell_type": "code",
   "execution_count": null,
   "id": "fa964a04-08cb-497d-9d8e-178f49cfe416",
   "metadata": {},
   "outputs": [],
   "source": []
  }
 ],
 "metadata": {
  "kernelspec": {
   "display_name": "Python 3 (ipykernel)",
   "language": "python",
   "name": "python3"
  },
  "language_info": {
   "codemirror_mode": {
    "name": "ipython",
    "version": 3
   },
   "file_extension": ".py",
   "mimetype": "text/x-python",
   "name": "python",
   "nbconvert_exporter": "python",
   "pygments_lexer": "ipython3",
   "version": "3.9.7"
  }
 },
 "nbformat": 4,
 "nbformat_minor": 5
}
