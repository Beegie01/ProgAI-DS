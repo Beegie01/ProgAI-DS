{
 "cells": [
  {
   "cell_type": "markdown",
   "id": "126928a3-0a68-4611-9ee2-9e6b3abd9257",
   "metadata": {},
   "source": [
    "# Program: Artificial Intelligence and Data Science\n",
    "# Student ID: <202115576>"
   ]
  },
  {
   "cell_type": "markdown",
   "id": "645f2aff",
   "metadata": {},
   "source": [
    "#### Exercise 1"
   ]
  },
  {
   "cell_type": "markdown",
   "id": "42750aee",
   "metadata": {},
   "source": [
    "```python\n",
    "    (venv) C:\\Users\\welcome>python\n",
    "    Python 3.9.7 (tags/v3.9.7:1016ef3, Aug 30 2021, 20:19:38) [MSC v.1929 64 bit (AMD64)] on win32\n",
    "    Type \"help\", \"copyright\", \"credits\" or \"license\" for more information.\n",
    "    >>> print('hello world')\n",
    "    hello world\n",
    "    >>>\n",
    "```"
   ]
  },
  {
   "cell_type": "markdown",
   "id": "e48e9790",
   "metadata": {},
   "source": [
    "#### Exercise 2"
   ]
  },
  {
   "cell_type": "markdown",
   "id": "82868c4b",
   "metadata": {},
   "source": [
    "```python\n",
    "    >>> type(932)\n",
    "    <class 'int'>\n",
    "    >>> type('University of Hull')\n",
    "    <class 'str'>\n",
    "    >>> type(3.303)\n",
    "    <class 'float'>\n",
    "    >>> type(True)\n",
    "    <class 'bool'>\n",
    "    >>> type(None)\n",
    "    <class 'NoneType'>\n",
    "    >>> type(3+3j)\n",
    "    <class 'complex'>\n",
    "    >>> alist = ['osagie', 'male', 'NGA']\n",
    "    >>> type(alist)\n",
    "    <class 'list'>\n",
    "    >>> atuple = ('princess', 'female', 'UK')\n",
    "    >>> type(atuple)\n",
    "    <class 'tuple'>\n",
    "    >>> adict = {'first_name': ['osagie', 'princess'], 'gender': ['male', 'female'], 'country': ['NGA', 'UK']}\n",
    "    >>> type(adict)\n",
    "    <class 'dict'>\n",
    "```"
   ]
  },
  {
   "cell_type": "markdown",
   "id": "08a441b5",
   "metadata": {},
   "source": [
    "#### Exercise 3"
   ]
  },
  {
   "cell_type": "markdown",
   "id": "af1442e7",
   "metadata": {},
   "source": [
    "```python\n",
    "    >>> str(932)\n",
    "    '932'\n",
    "    >>> float(932)\n",
    "    932.0\n",
    "    >>> int(933.6)\n",
    "    933\n",
    "    >>> list(atuple)\n",
    "    ['princess', 'female', 'UK']\n",
    "    >>> tuple(alist)\n",
    "    ('osagie', 'male', 'NGA')\n",
    "```"
   ]
  },
  {
   "cell_type": "markdown",
   "id": "ae04d751",
   "metadata": {},
   "source": [
    "#### Exercise 4"
   ]
  },
  {
   "cell_type": "markdown",
   "id": "dc9094fa",
   "metadata": {},
   "source": [
    "```python\n",
    "    >>> type(3+4)\n",
    "    <class 'int'>\n",
    "    >>> type(3.0+4)\n",
    "    <class 'float'>\n",
    "    >>> type(37%7**2)\n",
    "    <class 'int'>\n",
    "    >>> type('bob'+'cat')\n",
    "    <class 'str'>\n",
    "    >>> type('bob'/'cat')\n",
    "    Traceback (most recent call last):\n",
    "      File \"<stdin>\", line 1, in <module>\n",
    "    TypeError: unsupported operand type(s) for /: 'str' and 'str'\n",
    "    >>> type(\"banana\"+\"na\"*20)\n",
    "    <class 'str'>\n",
    "    >>> type(\"banana\"-\"na\")\n",
    "    Traceback (most recent call last):\n",
    "      File \"<stdin>\", line 1, in <module>\n",
    "    TypeError: unsupported operand type(s) for -: 'str' and 'str'\n",
    "```"
   ]
  },
  {
   "cell_type": "markdown",
   "id": "59200f05-6f59-45ac-907c-3bb1c1b5924d",
   "metadata": {},
   "source": [
    "#### Exercise 5"
   ]
  },
  {
   "cell_type": "markdown",
   "id": "b3eea15a-7e57-4570-ae1b-b118719dc9c4",
   "metadata": {},
   "source": [
    "```python\n",
    ">>> 12+28/7*2\n",
    "20.0\n",
    "```\n",
    "1. The result of the above expression is 20, because:\n",
    "\n",
    "    step 1: 28/7 ==> 4;\n",
    "\n",
    "    step 2: 4 * 2 ==> 8;\n",
    "\n",
    "    step 3: 12 + 8 ==> 20.\n",
    "\n",
    "\n",
    "2. The overall type of the result is float, because a division operation always results in a floating point number.\n",
    "\n",
    "\n",
    "\n",
    "\n",
    "3. As given below:\n",
    "```python\n",
    "    >>> 12 + ( (28/7) * 2)\n",
    "    20.0\n",
    "    ```"
   ]
  },
  {
   "cell_type": "markdown",
   "id": "59705501-33ba-4019-b86a-f6f59752cf88",
   "metadata": {},
   "source": [
    "#### Exercise 6"
   ]
  },
  {
   "cell_type": "markdown",
   "id": "12ed877e-ac82-4e6d-abd8-23cbbb42a0ce",
   "metadata": {},
   "source": [
    "```python\n",
    "    >>> ft, ns = 42.0, 97\n",
    "    >>> ft+ns\n",
    "    139.0\n",
    "    >>> ft-ns\n",
    "    -55.0\n",
    "    >>> ft/ns\n",
    "    0.4329896907216495\n",
    "    >>> ft*ns\n",
    "    4074.0\n",
    "    >>> addn = ft+ns\n",
    "    >>> subn = ft-ns\n",
    "    >>> divn = ft/ns\n",
    "    >>> muln = ft*ns\n",
    "    >>> print(addn, subn, muln, divn)\n",
    "    139.0 -55.0 4074.0 0.4329896907216495\n",
    "    >>> print(\"Addition: {}, Subtraction: {}, Multiplication: {}, Division: {}\".format(addn, subn, muln, divn))\n",
    "    Addition: 139.0, Subtraction: -55.0, Multiplication: 4074.0, Division: 0.4329896907216495\n",
    "    >>> \n",
    "```"
   ]
  },
  {
   "cell_type": "markdown",
   "id": "d45b371a-baeb-4f86-8eb7-611ff91d32bd",
   "metadata": {},
   "source": [
    "#### Exercise 7"
   ]
  },
  {
   "cell_type": "markdown",
   "id": "de41b522-ee94-4f3e-a042-c6e67cd39592",
   "metadata": {},
   "source": [
    "```python\n",
    ">>> ft = \"banana\"+\"na\"*20\n",
    ">>> print(ft)\n",
    "banananananananananananananananananananananana\n",
    "```"
   ]
  }
 ],
 "metadata": {
  "kernelspec": {
   "display_name": "Python 3 (ipykernel)",
   "language": "python",
   "name": "python3"
  },
  "language_info": {
   "codemirror_mode": {
    "name": "ipython",
    "version": 3
   },
   "file_extension": ".py",
   "mimetype": "text/x-python",
   "name": "python",
   "nbconvert_exporter": "python",
   "pygments_lexer": "ipython3",
   "version": "3.9.7"
  }
 },
 "nbformat": 4,
 "nbformat_minor": 5
}
