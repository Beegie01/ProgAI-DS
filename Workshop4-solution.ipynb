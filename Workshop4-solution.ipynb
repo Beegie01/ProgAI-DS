{
 "cells": [
  {
   "cell_type": "markdown",
   "id": "3419bb24-5b36-48ad-949c-c672ac2ad973",
   "metadata": {},
   "source": [
    "# Programming for AI & DS\n",
    "## Workshop 4 Solution\n",
    "### Student No: <202115576>"
   ]
  },
  {
   "cell_type": "markdown",
   "id": "7bdf5c86-d3f9-4dd3-90a5-25a0afbdb096",
   "metadata": {},
   "source": [
    "#### Q1:\n",
    "    install and import pandas and seaborn libraries"
   ]
  },
  {
   "cell_type": "code",
   "execution_count": 1,
   "id": "a96892bf-d17e-4afd-8058-72d02cc4c9e8",
   "metadata": {},
   "outputs": [
    {
     "name": "stdout",
     "output_type": "stream",
     "text": [
      "Defaulting to user installation because normal site-packages is not writeable\n",
      "Requirement already satisfied: pandas in c:\\users\\welcome\\appdata\\roaming\\python\\python39\\site-packages (1.3.3)\n",
      "Requirement already satisfied: python-dateutil>=2.7.3 in c:\\users\\welcome\\appdata\\roaming\\python\\python39\\site-packages (from pandas) (2.8.2)\n",
      "Requirement already satisfied: pytz>=2017.3 in c:\\users\\welcome\\appdata\\roaming\\python\\python39\\site-packages (from pandas) (2021.1)\n",
      "Requirement already satisfied: numpy>=1.17.3 in c:\\users\\welcome\\appdata\\roaming\\python\\python39\\site-packages (from pandas) (1.21.2)\n",
      "Requirement already satisfied: six>=1.5 in c:\\users\\welcome\\appdata\\roaming\\python\\python39\\site-packages (from python-dateutil>=2.7.3->pandas) (1.16.0)\n"
     ]
    }
   ],
   "source": [
    "!pip install pandas --upgrade"
   ]
  },
  {
   "cell_type": "code",
   "execution_count": 9,
   "id": "58295a14-6aab-4845-b875-c34040f47dfb",
   "metadata": {},
   "outputs": [
    {
     "name": "stdout",
     "output_type": "stream",
     "text": [
      "Defaulting to user installation because normal site-packages is not writeable\n",
      "Collecting seaborn\n",
      "  Using cached seaborn-0.11.2-py3-none-any.whl (292 kB)\n",
      "Requirement already satisfied: pandas>=0.23 in c:\\users\\welcome\\appdata\\roaming\\python\\python39\\site-packages (from seaborn) (1.3.3)\n",
      "Requirement already satisfied: numpy>=1.15 in c:\\users\\welcome\\appdata\\roaming\\python\\python39\\site-packages (from seaborn) (1.21.2)\n",
      "Collecting scipy>=1.0\n",
      "  Using cached scipy-1.7.1-cp39-cp39-win_amd64.whl (33.8 MB)\n",
      "Requirement already satisfied: matplotlib>=2.2 in c:\\users\\welcome\\appdata\\roaming\\python\\python39\\site-packages (from seaborn) (3.4.3)\n",
      "Requirement already satisfied: kiwisolver>=1.0.1 in c:\\users\\welcome\\appdata\\roaming\\python\\python39\\site-packages (from matplotlib>=2.2->seaborn) (1.3.1)\n",
      "Requirement already satisfied: pillow>=6.2.0 in c:\\users\\welcome\\appdata\\roaming\\python\\python39\\site-packages (from matplotlib>=2.2->seaborn) (8.4.0)\n",
      "Requirement already satisfied: python-dateutil>=2.7 in c:\\users\\welcome\\appdata\\roaming\\python\\python39\\site-packages (from matplotlib>=2.2->seaborn) (2.8.2)\n",
      "Requirement already satisfied: pyparsing>=2.2.1 in c:\\users\\welcome\\appdata\\roaming\\python\\python39\\site-packages (from matplotlib>=2.2->seaborn) (2.4.7)\n",
      "Requirement already satisfied: cycler>=0.10 in c:\\users\\welcome\\appdata\\roaming\\python\\python39\\site-packages (from matplotlib>=2.2->seaborn) (0.10.0)\n",
      "Requirement already satisfied: pytz>=2017.3 in c:\\users\\welcome\\appdata\\roaming\\python\\python39\\site-packages (from pandas>=0.23->seaborn) (2021.1)\n",
      "Requirement already satisfied: six in c:\\users\\welcome\\appdata\\roaming\\python\\python39\\site-packages (from cycler>=0.10->matplotlib>=2.2->seaborn) (1.16.0)\n",
      "Installing collected packages: scipy, seaborn\n",
      "Successfully installed scipy-1.7.1 seaborn-0.11.2\n"
     ]
    }
   ],
   "source": [
    "!pip install seaborn"
   ]
  },
  {
   "cell_type": "code",
   "execution_count": 1,
   "id": "05c43fef-80e3-4330-ad03-6d9b3ad4857e",
   "metadata": {},
   "outputs": [
    {
     "name": "stdout",
     "output_type": "stream",
     "text": [
      "Package             Version\n",
      "------------------- ---------\n",
      "anyio               3.3.2\n",
      "argon2-cffi         21.1.0\n",
      "attrs               21.2.0\n",
      "Babel               2.9.1\n",
      "backcall            0.2.0\n",
      "bleach              4.1.0\n",
      "certifi             2021.5.30\n",
      "cffi                1.14.6\n",
      "charset-normalizer  2.0.6\n",
      "colorama            0.4.4\n",
      "cycler              0.10.0\n",
      "debugpy             1.4.3\n",
      "decorator           5.1.0\n",
      "defusedxml          0.7.1\n",
      "entrypoints         0.3\n",
      "et-xmlfile          1.1.0\n",
      "idna                3.2\n",
      "ipykernel           6.4.1\n",
      "ipython             7.28.0\n",
      "ipython-genutils    0.2.0\n",
      "ipywidgets          7.6.5\n",
      "jdcal               1.4.1\n",
      "jedi                0.18.0\n",
      "Jinja2              3.0.1\n",
      "joblib              1.0.1\n",
      "json5               0.9.6\n",
      "jsonschema          3.2.0\n",
      "jupyter             1.0.0\n",
      "jupyter-client      7.0.3\n",
      "jupyter-console     6.4.0\n",
      "jupyter-core        4.8.1\n",
      "jupyter-server      1.11.0\n",
      "jupyterlab          3.1.14\n",
      "jupyterlab-pygments 0.1.2\n",
      "jupyterlab-server   2.8.2\n",
      "jupyterlab-widgets  1.0.2\n",
      "kiwisolver          1.3.1\n",
      "MarkupSafe          2.0.1\n",
      "matplotlib          3.4.3\n",
      "matplotlib-inline   0.1.3\n",
      "mistune             0.8.4\n",
      "nbclassic           0.3.2\n",
      "nbclient            0.5.4\n",
      "nbconvert           6.2.0\n",
      "nbformat            5.1.3\n",
      "nest-asyncio        1.5.1\n",
      "notebook            6.4.4\n",
      "numpy               1.21.2\n",
      "openpyexcel         2.5.14\n",
      "openpyxl            3.0.9\n",
      "packaging           21.0\n",
      "pandas              1.3.3\n",
      "pandocfilters       1.5.0\n",
      "parso               0.8.2\n",
      "pickleshare         0.7.5\n",
      "Pillow              8.4.0\n",
      "pip                 21.3\n",
      "prometheus-client   0.11.0\n",
      "prompt-toolkit      3.0.20\n",
      "pycparser           2.20\n",
      "Pygments            2.10.0\n",
      "pyparsing           2.4.7\n",
      "PyPDF2              1.26.0\n",
      "pyrsistent          0.18.0\n",
      "python-dateutil     2.8.2\n",
      "pytz                2021.1\n",
      "pywin32             301\n",
      "pywinpty            1.1.4\n",
      "pyzmq               22.3.0\n",
      "qtconsole           5.1.1\n",
      "QtPy                1.11.2\n",
      "requests            2.26.0\n",
      "requests-unixsocket 0.2.0\n",
      "scipy               1.7.1\n",
      "seaborn             0.11.2\n",
      "Send2Trash          1.8.0\n",
      "setuptools          57.4.0\n",
      "six                 1.16.0\n",
      "sniffio             1.2.0\n",
      "terminado           0.12.1\n",
      "testpath            0.5.0\n",
      "tornado             6.1\n",
      "traitlets           5.1.0\n",
      "urllib3             1.26.7\n",
      "wcwidth             0.2.5\n",
      "webencodings        0.5.1\n",
      "websocket-client    1.2.1\n",
      "widgetsnbextension  3.5.1\n"
     ]
    }
   ],
   "source": [
    "!pip list"
   ]
  },
  {
   "cell_type": "code",
   "execution_count": 1,
   "id": "f4997729-ea26-45bc-a1e0-71c6e5eb585d",
   "metadata": {},
   "outputs": [],
   "source": [
    "import numpy as np\n",
    "import pandas as pd\n",
    "import matplotlib.pyplot as plt\n",
    "import seaborn as sns\n",
    "import json\n",
    "import csv\n",
    "import joblib"
   ]
  },
  {
   "cell_type": "code",
   "execution_count": 2,
   "id": "c853f022-616e-4696-8424-cd0fb0d34222",
   "metadata": {},
   "outputs": [
    {
     "name": "stdout",
     "output_type": "stream",
     "text": [
      "Package imported!\n"
     ]
    }
   ],
   "source": [
    "my_pkg = 'C:\\\\Users\\\\welcome\\\\Desktop\\\\MyFuncs'\n",
    "imp_mods = joblib.os.sys.path\n",
    "\n",
    "if my_pkg not in imp_mods:\n",
    "    imp_mods.append(my_pkg)\n",
    "    print('Package imported!')"
   ]
  },
  {
   "cell_type": "code",
   "execution_count": 3,
   "id": "f686a261-9973-4cff-9491-d1d9cb1a60d1",
   "metadata": {},
   "outputs": [],
   "source": [
    "import myio_funcs as mf"
   ]
  },
  {
   "cell_type": "code",
   "execution_count": 4,
   "id": "b4048877-16fe-46b8-af3c-5f829fc6b766",
   "metadata": {},
   "outputs": [
    {
     "name": "stdout",
     "output_type": "stream",
     "text": [
      "Starting search from: G:\\\n",
      "\n"
     ]
    }
   ],
   "source": [
    "sf = mf.file_search('G:\\\\', 'duck', 'json')"
   ]
  },
  {
   "cell_type": "code",
   "execution_count": 5,
   "id": "614308ae-14bc-4cb8-96f3-3010bf9bcaf6",
   "metadata": {},
   "outputs": [],
   "source": [
    "fpath = sf['duck_collection.json']"
   ]
  },
  {
   "cell_type": "markdown",
   "id": "d3b97ffa-cbcd-446f-9774-05bebd787c4f",
   "metadata": {},
   "source": [
    "#### Q2:\n",
    "    load the duck_collection JSON file from the last class"
   ]
  },
  {
   "cell_type": "code",
   "execution_count": 6,
   "id": "a59bdcb2-5af3-4d1d-b609-45375d7b077a",
   "metadata": {},
   "outputs": [],
   "source": [
    "with open(fpath, mode='r') as f:\n",
    "    ducks = json.load(f)"
   ]
  },
  {
   "cell_type": "code",
   "execution_count": 7,
   "id": "c1dcbd75-f3f0-4e70-8437-ecff0f43f778",
   "metadata": {},
   "outputs": [
    {
     "name": "stdout",
     "output_type": "stream",
     "text": [
      "<class 'list'>\n",
      "[{'first_name': 'Davey', 'last_name': 'McDuck', 'location': \"Rob's Office\", 'insane': True, 'followers': 12865, 'following': 120, 'weapons': ['wit', 'steely stare', 'devilish good looks'], 'remorse': None}, {'first_name': 'Jim', 'last_name': 'Bob', 'location': 'Turing Lab', 'insane': False, 'followers': 123, 'following': 5000, 'weapons': ['squeak'], 'remorse': None}, {'first_name': 'Celest', 'last_name': '', 'location': 'Throne Room', 'insane': True, 'followers': 40189, 'following': 1, 'weapons': ['politics', 'dance moves', 'chess grandmaster', 'immortality']}]\n"
     ]
    }
   ],
   "source": [
    "print(type( ducks ))\n",
    "print(ducks)"
   ]
  },
  {
   "cell_type": "markdown",
   "id": "3d39aeba-9b63-4ea6-8619-8792c3c0c9ef",
   "metadata": {},
   "source": [
    "#### Q3:\n",
    "    Sorting data with inbuilt sorted() function"
   ]
  },
  {
   "cell_type": "code",
   "execution_count": 8,
   "id": "a0a254c0-aa7d-41e9-b10c-553b6da63fea",
   "metadata": {},
   "outputs": [
    {
     "name": "stdout",
     "output_type": "stream",
     "text": [
      "[1, 2, 3, 4, 7, 9, 10]\n"
     ]
    }
   ],
   "source": [
    "some_number = [ 3, 1, 2, 7, 9, 4, 10 ]\n",
    "print(sorted( some_number ))"
   ]
  },
  {
   "cell_type": "code",
   "execution_count": 9,
   "id": "4e7a394c-6b43-4d5b-87c1-8a1c4e35c3c5",
   "metadata": {},
   "outputs": [
    {
     "name": "stdout",
     "output_type": "stream",
     "text": [
      "[10, 9, 7, 4, 3, 2, 1]\n"
     ]
    }
   ],
   "source": [
    "print(sorted( some_number, reverse=True))"
   ]
  },
  {
   "cell_type": "markdown",
   "id": "4993ba02-1d1a-41b6-8732-dcd6f018924e",
   "metadata": {},
   "source": [
    "#### Q4:\n",
    "    Sort a list of dictionaries based on a specific key"
   ]
  },
  {
   "cell_type": "code",
   "execution_count": 10,
   "id": "b0c94e0f-9e7c-4a7c-82cd-012f189dde5b",
   "metadata": {},
   "outputs": [
    {
     "ename": "TypeError",
     "evalue": "'<' not supported between instances of 'dict' and 'dict'",
     "output_type": "error",
     "traceback": [
      "\u001b[1;31m---------------------------------------------------------------------------\u001b[0m",
      "\u001b[1;31mTypeError\u001b[0m                                 Traceback (most recent call last)",
      "\u001b[1;32m~\\AppData\\Local\\Temp/ipykernel_11700/3421986281.py\u001b[0m in \u001b[0;36m<module>\u001b[1;34m\u001b[0m\n\u001b[1;32m----> 1\u001b[1;33m \u001b[0mprint\u001b[0m\u001b[1;33m(\u001b[0m\u001b[0msorted\u001b[0m\u001b[1;33m(\u001b[0m \u001b[0mducks\u001b[0m \u001b[1;33m)\u001b[0m\u001b[1;33m)\u001b[0m\u001b[1;33m\u001b[0m\u001b[1;33m\u001b[0m\u001b[0m\n\u001b[0m",
      "\u001b[1;31mTypeError\u001b[0m: '<' not supported between instances of 'dict' and 'dict'"
     ]
    }
   ],
   "source": [
    "print(sorted( ducks ))"
   ]
  },
  {
   "cell_type": "code",
   "execution_count": 12,
   "id": "f2629afc-70ff-4d27-b8fe-f484515e4a22",
   "metadata": {},
   "outputs": [
    {
     "name": "stdout",
     "output_type": "stream",
     "text": [
      "[{'first_name': 'Celest', 'last_name': '', 'location': 'Throne Room', 'insane': True, 'followers': 40189, 'following': 1, 'weapons': ['politics', 'dance moves', 'chess grandmaster', 'immortality']}, {'first_name': 'Davey', 'last_name': 'McDuck', 'location': \"Rob's Office\", 'insane': True, 'followers': 12865, 'following': 120, 'weapons': ['wit', 'steely stare', 'devilish good looks'], 'remorse': None}, {'first_name': 'Jim', 'last_name': 'Bob', 'location': 'Turing Lab', 'insane': False, 'followers': 123, 'following': 5000, 'weapons': ['squeak'], 'remorse': None}]\n"
     ]
    }
   ],
   "source": [
    "print(sorted( ducks, key=lambda d: d['first_name']))"
   ]
  },
  {
   "cell_type": "code",
   "execution_count": 13,
   "id": "bccf47dd-d03a-4038-9143-c28c60a08e5b",
   "metadata": {},
   "outputs": [
    {
     "name": "stdout",
     "output_type": "stream",
     "text": [
      "[{'first_name': 'Jim', 'last_name': 'Bob', 'location': 'Turing Lab', 'insane': False, 'followers': 123, 'following': 5000, 'weapons': ['squeak'], 'remorse': None}, {'first_name': 'Davey', 'last_name': 'McDuck', 'location': \"Rob's Office\", 'insane': True, 'followers': 12865, 'following': 120, 'weapons': ['wit', 'steely stare', 'devilish good looks'], 'remorse': None}, {'first_name': 'Celest', 'last_name': '', 'location': 'Throne Room', 'insane': True, 'followers': 40189, 'following': 1, 'weapons': ['politics', 'dance moves', 'chess grandmaster', 'immortality']}]\n"
     ]
    }
   ],
   "source": [
    "print(sorted(ducks, key=lambda d: d['followers']))"
   ]
  },
  {
   "cell_type": "markdown",
   "id": "b008ec96-5bb9-4f24-a527-27a5b09d100d",
   "metadata": {},
   "source": [
    "#### Q5:\n",
    "    Download the titanic csv file"
   ]
  },
  {
   "cell_type": "code",
   "execution_count": 14,
   "id": "2015e81e-b8e4-4226-abc6-84a68ae440d9",
   "metadata": {},
   "outputs": [
    {
     "name": "stdout",
     "output_type": "stream",
     "text": [
      "Starting search from: G:\\\n",
      "\n"
     ]
    },
    {
     "data": {
      "text/plain": [
       "{'titanic.csv': 'G:\\\\UoH-Programming-for-AIDS\\\\ClassMaterials\\\\Workshops\\\\Workshop4\\\\titanic.csv'}"
      ]
     },
     "execution_count": 14,
     "metadata": {},
     "output_type": "execute_result"
    }
   ],
   "source": [
    "sf = mf.file_search('G:\\\\', 'titanic', 'csv', False)\n",
    "sf"
   ]
  },
  {
   "cell_type": "markdown",
   "id": "cf803064-622b-44f7-bcb7-0d64d81048e8",
   "metadata": {},
   "source": [
    "#### Q6:\n",
    "    read in the titanic.csv file using pandas read_csv function"
   ]
  },
  {
   "cell_type": "code",
   "execution_count": 15,
   "id": "c7694d02-d081-4432-92a1-15cd1c8971ea",
   "metadata": {},
   "outputs": [],
   "source": [
    "fpath = 'G:\\\\UoH-Programming-for-AIDS\\\\ClassMaterials\\\\Workshops\\\\Workshop4\\\\titanic.csv'\n",
    "titanic_df = pd.read_csv(fpath)"
   ]
  },
  {
   "cell_type": "code",
   "execution_count": 16,
   "id": "b755e564-94ae-464f-88d3-ab660a2b85ad",
   "metadata": {},
   "outputs": [
    {
     "data": {
      "text/html": [
       "<div>\n",
       "<style scoped>\n",
       "    .dataframe tbody tr th:only-of-type {\n",
       "        vertical-align: middle;\n",
       "    }\n",
       "\n",
       "    .dataframe tbody tr th {\n",
       "        vertical-align: top;\n",
       "    }\n",
       "\n",
       "    .dataframe thead th {\n",
       "        text-align: right;\n",
       "    }\n",
       "</style>\n",
       "<table border=\"1\" class=\"dataframe\">\n",
       "  <thead>\n",
       "    <tr style=\"text-align: right;\">\n",
       "      <th></th>\n",
       "      <th>PassengerId</th>\n",
       "      <th>Survived</th>\n",
       "      <th>Pclass</th>\n",
       "      <th>Name</th>\n",
       "      <th>Sex</th>\n",
       "      <th>Age</th>\n",
       "      <th>SibSp</th>\n",
       "      <th>Parch</th>\n",
       "      <th>Ticket</th>\n",
       "      <th>Fare</th>\n",
       "      <th>Cabin</th>\n",
       "      <th>Embarked</th>\n",
       "    </tr>\n",
       "  </thead>\n",
       "  <tbody>\n",
       "    <tr>\n",
       "      <th>0</th>\n",
       "      <td>1</td>\n",
       "      <td>0</td>\n",
       "      <td>3</td>\n",
       "      <td>Braund, Mr. Owen Harris</td>\n",
       "      <td>male</td>\n",
       "      <td>22.0</td>\n",
       "      <td>1</td>\n",
       "      <td>0</td>\n",
       "      <td>A/5 21171</td>\n",
       "      <td>7.2500</td>\n",
       "      <td>A001</td>\n",
       "      <td>S</td>\n",
       "    </tr>\n",
       "    <tr>\n",
       "      <th>1</th>\n",
       "      <td>2</td>\n",
       "      <td>1</td>\n",
       "      <td>1</td>\n",
       "      <td>Cumings, Mrs. John Bradley (Florence Briggs Th...</td>\n",
       "      <td>female</td>\n",
       "      <td>38.0</td>\n",
       "      <td>1</td>\n",
       "      <td>0</td>\n",
       "      <td>PC 17599</td>\n",
       "      <td>71.2833</td>\n",
       "      <td>C85</td>\n",
       "      <td>C</td>\n",
       "    </tr>\n",
       "    <tr>\n",
       "      <th>2</th>\n",
       "      <td>3</td>\n",
       "      <td>1</td>\n",
       "      <td>3</td>\n",
       "      <td>Heikkinen, Miss. Laina</td>\n",
       "      <td>female</td>\n",
       "      <td>26.0</td>\n",
       "      <td>0</td>\n",
       "      <td>0</td>\n",
       "      <td>STON/O2. 3101282</td>\n",
       "      <td>7.9250</td>\n",
       "      <td>C85</td>\n",
       "      <td>S</td>\n",
       "    </tr>\n",
       "    <tr>\n",
       "      <th>3</th>\n",
       "      <td>4</td>\n",
       "      <td>1</td>\n",
       "      <td>1</td>\n",
       "      <td>Futrelle, Mrs. Jacques Heath (Lily May Peel)</td>\n",
       "      <td>female</td>\n",
       "      <td>35.0</td>\n",
       "      <td>1</td>\n",
       "      <td>0</td>\n",
       "      <td>113803</td>\n",
       "      <td>53.1000</td>\n",
       "      <td>C123</td>\n",
       "      <td>S</td>\n",
       "    </tr>\n",
       "    <tr>\n",
       "      <th>4</th>\n",
       "      <td>5</td>\n",
       "      <td>0</td>\n",
       "      <td>3</td>\n",
       "      <td>Allen, Mr. William Henry</td>\n",
       "      <td>male</td>\n",
       "      <td>35.0</td>\n",
       "      <td>0</td>\n",
       "      <td>0</td>\n",
       "      <td>373450</td>\n",
       "      <td>8.0500</td>\n",
       "      <td>C123</td>\n",
       "      <td>S</td>\n",
       "    </tr>\n",
       "    <tr>\n",
       "      <th>...</th>\n",
       "      <td>...</td>\n",
       "      <td>...</td>\n",
       "      <td>...</td>\n",
       "      <td>...</td>\n",
       "      <td>...</td>\n",
       "      <td>...</td>\n",
       "      <td>...</td>\n",
       "      <td>...</td>\n",
       "      <td>...</td>\n",
       "      <td>...</td>\n",
       "      <td>...</td>\n",
       "      <td>...</td>\n",
       "    </tr>\n",
       "    <tr>\n",
       "      <th>886</th>\n",
       "      <td>887</td>\n",
       "      <td>0</td>\n",
       "      <td>2</td>\n",
       "      <td>Montvila, Rev. Juozas</td>\n",
       "      <td>male</td>\n",
       "      <td>27.0</td>\n",
       "      <td>0</td>\n",
       "      <td>0</td>\n",
       "      <td>211536</td>\n",
       "      <td>13.0000</td>\n",
       "      <td>C50</td>\n",
       "      <td>S</td>\n",
       "    </tr>\n",
       "    <tr>\n",
       "      <th>887</th>\n",
       "      <td>888</td>\n",
       "      <td>1</td>\n",
       "      <td>1</td>\n",
       "      <td>Graham, Miss. Margaret Edith</td>\n",
       "      <td>female</td>\n",
       "      <td>19.0</td>\n",
       "      <td>0</td>\n",
       "      <td>0</td>\n",
       "      <td>112053</td>\n",
       "      <td>30.0000</td>\n",
       "      <td>B42</td>\n",
       "      <td>S</td>\n",
       "    </tr>\n",
       "    <tr>\n",
       "      <th>888</th>\n",
       "      <td>889</td>\n",
       "      <td>0</td>\n",
       "      <td>3</td>\n",
       "      <td>Johnston, Miss. Catherine Helen \"Carrie\"</td>\n",
       "      <td>female</td>\n",
       "      <td>19.0</td>\n",
       "      <td>1</td>\n",
       "      <td>2</td>\n",
       "      <td>W./C. 6607</td>\n",
       "      <td>23.4500</td>\n",
       "      <td>B42</td>\n",
       "      <td>S</td>\n",
       "    </tr>\n",
       "    <tr>\n",
       "      <th>889</th>\n",
       "      <td>890</td>\n",
       "      <td>1</td>\n",
       "      <td>1</td>\n",
       "      <td>Behr, Mr. Karl Howell</td>\n",
       "      <td>male</td>\n",
       "      <td>26.0</td>\n",
       "      <td>0</td>\n",
       "      <td>0</td>\n",
       "      <td>111369</td>\n",
       "      <td>30.0000</td>\n",
       "      <td>C148</td>\n",
       "      <td>C</td>\n",
       "    </tr>\n",
       "    <tr>\n",
       "      <th>890</th>\n",
       "      <td>891</td>\n",
       "      <td>0</td>\n",
       "      <td>3</td>\n",
       "      <td>Dooley, Mr. Patrick</td>\n",
       "      <td>male</td>\n",
       "      <td>32.0</td>\n",
       "      <td>0</td>\n",
       "      <td>0</td>\n",
       "      <td>370376</td>\n",
       "      <td>7.7500</td>\n",
       "      <td>C148</td>\n",
       "      <td>Q</td>\n",
       "    </tr>\n",
       "  </tbody>\n",
       "</table>\n",
       "<p>891 rows × 12 columns</p>\n",
       "</div>"
      ],
      "text/plain": [
       "     PassengerId  Survived  Pclass  \\\n",
       "0              1         0       3   \n",
       "1              2         1       1   \n",
       "2              3         1       3   \n",
       "3              4         1       1   \n",
       "4              5         0       3   \n",
       "..           ...       ...     ...   \n",
       "886          887         0       2   \n",
       "887          888         1       1   \n",
       "888          889         0       3   \n",
       "889          890         1       1   \n",
       "890          891         0       3   \n",
       "\n",
       "                                                  Name     Sex   Age  SibSp  \\\n",
       "0                              Braund, Mr. Owen Harris    male  22.0      1   \n",
       "1    Cumings, Mrs. John Bradley (Florence Briggs Th...  female  38.0      1   \n",
       "2                               Heikkinen, Miss. Laina  female  26.0      0   \n",
       "3         Futrelle, Mrs. Jacques Heath (Lily May Peel)  female  35.0      1   \n",
       "4                             Allen, Mr. William Henry    male  35.0      0   \n",
       "..                                                 ...     ...   ...    ...   \n",
       "886                              Montvila, Rev. Juozas    male  27.0      0   \n",
       "887                       Graham, Miss. Margaret Edith  female  19.0      0   \n",
       "888           Johnston, Miss. Catherine Helen \"Carrie\"  female  19.0      1   \n",
       "889                              Behr, Mr. Karl Howell    male  26.0      0   \n",
       "890                                Dooley, Mr. Patrick    male  32.0      0   \n",
       "\n",
       "     Parch            Ticket     Fare Cabin Embarked  \n",
       "0        0         A/5 21171   7.2500  A001        S  \n",
       "1        0          PC 17599  71.2833   C85        C  \n",
       "2        0  STON/O2. 3101282   7.9250   C85        S  \n",
       "3        0            113803  53.1000  C123        S  \n",
       "4        0            373450   8.0500  C123        S  \n",
       "..     ...               ...      ...   ...      ...  \n",
       "886      0            211536  13.0000   C50        S  \n",
       "887      0            112053  30.0000   B42        S  \n",
       "888      2        W./C. 6607  23.4500   B42        S  \n",
       "889      0            111369  30.0000  C148        C  \n",
       "890      0            370376   7.7500  C148        Q  \n",
       "\n",
       "[891 rows x 12 columns]"
      ]
     },
     "execution_count": 16,
     "metadata": {},
     "output_type": "execute_result"
    }
   ],
   "source": [
    "titanic_df"
   ]
  },
  {
   "cell_type": "code",
   "execution_count": 17,
   "id": "e814a002-18d5-4b35-87ba-f21000013dad",
   "metadata": {},
   "outputs": [
    {
     "name": "stdout",
     "output_type": "stream",
     "text": [
      "<class 'pandas.core.frame.DataFrame'>\n"
     ]
    }
   ],
   "source": [
    "print(type( titanic_df ))"
   ]
  },
  {
   "cell_type": "markdown",
   "id": "1072c55b-3baa-4484-9068-dc542861e969",
   "metadata": {},
   "source": [
    "#### Q7:\n",
    "    Display the columns of the dataframe"
   ]
  },
  {
   "cell_type": "code",
   "execution_count": 18,
   "id": "987b2b74-9a7d-471f-bd6e-39213d9fe318",
   "metadata": {},
   "outputs": [
    {
     "name": "stdout",
     "output_type": "stream",
     "text": [
      "Index(['PassengerId', 'Survived', 'Pclass', 'Name', 'Sex', 'Age', 'SibSp',\n",
      "       'Parch', 'Ticket', 'Fare', 'Cabin', 'Embarked'],\n",
      "      dtype='object')\n"
     ]
    }
   ],
   "source": [
    "print(titanic_df.columns)"
   ]
  },
  {
   "cell_type": "code",
   "execution_count": 19,
   "id": "40c2f9c6-26cd-4877-ab1f-a37a8ea774ec",
   "metadata": {},
   "outputs": [
    {
     "name": "stdout",
     "output_type": "stream",
     "text": [
      "PassengerId\n",
      "Survived\n",
      "Pclass\n",
      "Name\n",
      "Sex\n",
      "Age\n",
      "SibSp\n",
      "Parch\n",
      "Ticket\n",
      "Fare\n",
      "Cabin\n",
      "Embarked\n"
     ]
    }
   ],
   "source": [
    "for col in titanic_df.columns:\n",
    "    print(col)"
   ]
  },
  {
   "cell_type": "markdown",
   "id": "10cf3057-d23e-4c16-bbf1-4464b873b3e5",
   "metadata": {},
   "source": [
    "#### Q8:\n",
    "    Store a series in a variable for later use"
   ]
  },
  {
   "cell_type": "code",
   "execution_count": 20,
   "id": "d21d7246-75cb-4d7e-ab78-8999e95d2e22",
   "metadata": {},
   "outputs": [
    {
     "name": "stdout",
     "output_type": "stream",
     "text": [
      "<class 'pandas.core.series.Series'>\n"
     ]
    }
   ],
   "source": [
    "fare = titanic_df['Fare']\n",
    "print(type( fare ))"
   ]
  },
  {
   "cell_type": "code",
   "execution_count": 21,
   "id": "9a45d889-b1db-445f-a80f-7dbf49919366",
   "metadata": {},
   "outputs": [
    {
     "data": {
      "text/plain": [
       "0       7.2500\n",
       "1      71.2833\n",
       "2       7.9250\n",
       "3      53.1000\n",
       "4       8.0500\n",
       "        ...   \n",
       "886    13.0000\n",
       "887    30.0000\n",
       "888    23.4500\n",
       "889    30.0000\n",
       "890     7.7500\n",
       "Name: Fare, Length: 891, dtype: float64"
      ]
     },
     "execution_count": 21,
     "metadata": {},
     "output_type": "execute_result"
    }
   ],
   "source": [
    "fare"
   ]
  },
  {
   "cell_type": "markdown",
   "id": "24478808-61cf-4f6d-b478-71955e2c37d7",
   "metadata": {},
   "source": [
    "#### Q9:\n",
    "    Calculate the statistical measures of a series of continuous datatype"
   ]
  },
  {
   "cell_type": "code",
   "execution_count": 22,
   "id": "a8ba86a5-b77c-4756-8496-73a39ce488d9",
   "metadata": {},
   "outputs": [
    {
     "name": "stdout",
     "output_type": "stream",
     "text": [
      "891\n",
      "32.204207968574636\n",
      "14.4542\n",
      "28693.9493\n",
      "0.0 512.3292\n",
      "49.6934285971809\n",
      "14.4542\n"
     ]
    }
   ],
   "source": [
    "print(len( fare ))\n",
    "print(fare.mean())\n",
    "print(fare.median())\n",
    "print(fare.sum())\n",
    "print(fare.min(), fare.max())\n",
    "print(fare.std())\n",
    "print(fare.quantile(0.5))"
   ]
  },
  {
   "cell_type": "markdown",
   "id": "b549d581-961e-4090-8157-060c381cc028",
   "metadata": {},
   "source": [
    "#### Q10:\n",
    "    Display the statistical measures in a more user-friendly way using f-string literal"
   ]
  },
  {
   "cell_type": "code",
   "execution_count": 23,
   "id": "cf0e1871-be41-4eee-aabc-577bd5d025b9",
   "metadata": {},
   "outputs": [
    {
     "name": "stdout",
     "output_type": "stream",
     "text": [
      "1. There are 891 fare records\n",
      "2. Average fare price: 32.204207968574636\n",
      "3. Median fare price: 14.4542\n",
      "4. Total fare: 28693.9493\n",
      "5. Minimum fare price: 0.0\tMaximum fare price: 512.3292\n",
      "6. Standard deviation of fare price: 49.6934285971809\n",
      "7. 50% Quantile of fare price: 14.4542\n"
     ]
    }
   ],
   "source": [
    "print(f\"1. There are {len(fare)} fare records\")\n",
    "print(f\"2. Average fare price: {fare.mean()}\")\n",
    "print(f\"3. Median fare price: {fare.median()}\")\n",
    "print(f\"4. Total fare: {fare.sum()}\")\n",
    "print(f\"5. Minimum fare price: {fare.min()}\\tMaximum fare price: {fare.max()}\")\n",
    "print(f\"6. Standard deviation of fare price: {fare.std()}\")\n",
    "print(f\"7. 50% Quantile of fare price: {fare.quantile(0.5)}\")"
   ]
  },
  {
   "cell_type": "markdown",
   "id": "768017ef-0483-4a23-9e69-92376a6d5cfc",
   "metadata": {},
   "source": [
    "#### Q11:\n",
    "    Output the statistical measures with result rounded to 2 decimal places using f-string literal"
   ]
  },
  {
   "cell_type": "code",
   "execution_count": 24,
   "id": "1db2df12-e850-4794-af0d-8087b262534d",
   "metadata": {},
   "outputs": [
    {
     "name": "stdout",
     "output_type": "stream",
     "text": [
      "1. There are 891 fare records\n",
      "2. Average fare price:  32.20\n",
      "3. Median fare price:  14.45\n",
      "4. Total fare:  28693.95\n",
      "5. Minimum fare price:  0.00\tMaximum fare price:  512.33\n",
      "6. Standard deviation of fare price:  49.69\n",
      "7. 50% Quantile of fare price:  14.45\n"
     ]
    }
   ],
   "source": [
    "print(f\"1. There are {len(fare)} fare records\")\n",
    "print(f\"2. Average fare price: {fare.mean(): .2f}\")\n",
    "print(f\"3. Median fare price: {fare.median(): .2f}\")\n",
    "print(f\"4. Total fare: {fare.sum(): .2f}\")\n",
    "print(f\"5. Minimum fare price: {fare.min(): .2f}\\tMaximum fare price: {fare.max(): .2f}\")\n",
    "print(f\"6. Standard deviation of fare price: {fare.std(): .2f}\")\n",
    "print(f\"7. 50% Quantile of fare price: {fare.quantile(0.5): .2f}\")"
   ]
  },
  {
   "cell_type": "markdown",
   "id": "70f7c084-d2a1-4641-a8f0-6edd3d4322f0",
   "metadata": {},
   "source": [
    "#### Q12:\n",
    "    Index the embarked feature and determine the mode value (most frequently occurring)"
   ]
  },
  {
   "cell_type": "code",
   "execution_count": 25,
   "id": "9f6cd2af-c0b6-42ae-a498-881748a7cfdd",
   "metadata": {},
   "outputs": [
    {
     "data": {
      "text/plain": [
       "0      S\n",
       "1      C\n",
       "2      S\n",
       "3      S\n",
       "4      S\n",
       "      ..\n",
       "886    S\n",
       "887    S\n",
       "888    S\n",
       "889    C\n",
       "890    Q\n",
       "Name: Embarked, Length: 891, dtype: object"
      ]
     },
     "execution_count": 25,
     "metadata": {},
     "output_type": "execute_result"
    }
   ],
   "source": [
    "embarked = titanic_df['Embarked']\n",
    "embarked"
   ]
  },
  {
   "cell_type": "code",
   "execution_count": 26,
   "id": "03afbcc7-ac6c-4bd4-86ff-a8882996b7e8",
   "metadata": {},
   "outputs": [
    {
     "data": {
      "text/plain": [
       "0    S\n",
       "dtype: object"
      ]
     },
     "execution_count": 26,
     "metadata": {},
     "output_type": "execute_result"
    }
   ],
   "source": [
    "embarked.mode()"
   ]
  },
  {
   "cell_type": "markdown",
   "id": "08fd2453-e07d-42d2-b17c-0ee8bd6c0fac",
   "metadata": {},
   "source": [
    "#### Q13:\n",
    "    Determine the unique values of the embarked feature"
   ]
  },
  {
   "cell_type": "code",
   "execution_count": 27,
   "id": "8c25c540-e1ae-465c-9202-9bbdda325970",
   "metadata": {},
   "outputs": [
    {
     "data": {
      "text/plain": [
       "array(['S', 'C', 'Q'], dtype=object)"
      ]
     },
     "execution_count": 27,
     "metadata": {},
     "output_type": "execute_result"
    }
   ],
   "source": [
    "embarked.unique()"
   ]
  },
  {
   "cell_type": "code",
   "execution_count": 28,
   "id": "692dbc76-ac28-412a-aeda-54ee9cb59d94",
   "metadata": {},
   "outputs": [
    {
     "name": "stdout",
     "output_type": "stream",
     "text": [
      "S\n",
      "C\n",
      "Q\n"
     ]
    }
   ],
   "source": [
    "for ind in range(len( embarked.unique() )):\n",
    "    print(embarked.unique()[ind])"
   ]
  },
  {
   "cell_type": "markdown",
   "id": "97458671-0a86-478f-a96b-7eefb7e1af79",
   "metadata": {},
   "source": [
    "#### Q14:\n",
    "    compare the total count to count per feature category"
   ]
  },
  {
   "cell_type": "code",
   "execution_count": 29,
   "id": "1d92303e-3eb5-42d5-ba82-20d9575dd572",
   "metadata": {},
   "outputs": [
    {
     "name": "stdout",
     "output_type": "stream",
     "text": [
      "891\n"
     ]
    }
   ],
   "source": [
    "print(embarked.count())"
   ]
  },
  {
   "cell_type": "code",
   "execution_count": 30,
   "id": "61c4aa49-3a6e-4bc9-99ed-25003002e6ef",
   "metadata": {},
   "outputs": [
    {
     "name": "stdout",
     "output_type": "stream",
     "text": [
      "S    644\n",
      "C    169\n",
      "Q     78\n",
      "Name: Embarked, dtype: int64\n"
     ]
    }
   ],
   "source": [
    "print(embarked.value_counts())"
   ]
  },
  {
   "cell_type": "markdown",
   "id": "7690c963-3bca-410c-90b5-8e33ff48a390",
   "metadata": {},
   "source": [
    "#### Q15:\n",
    "    Use the describe() function to acquire more statistical information about the dataframe  or series"
   ]
  },
  {
   "cell_type": "code",
   "execution_count": 31,
   "id": "a53bd423-3837-4ede-8d1e-e4e363af5598",
   "metadata": {},
   "outputs": [
    {
     "data": {
      "text/html": [
       "<div>\n",
       "<style scoped>\n",
       "    .dataframe tbody tr th:only-of-type {\n",
       "        vertical-align: middle;\n",
       "    }\n",
       "\n",
       "    .dataframe tbody tr th {\n",
       "        vertical-align: top;\n",
       "    }\n",
       "\n",
       "    .dataframe thead th {\n",
       "        text-align: right;\n",
       "    }\n",
       "</style>\n",
       "<table border=\"1\" class=\"dataframe\">\n",
       "  <thead>\n",
       "    <tr style=\"text-align: right;\">\n",
       "      <th></th>\n",
       "      <th>PassengerId</th>\n",
       "      <th>Survived</th>\n",
       "      <th>Pclass</th>\n",
       "      <th>Age</th>\n",
       "      <th>SibSp</th>\n",
       "      <th>Parch</th>\n",
       "      <th>Fare</th>\n",
       "    </tr>\n",
       "  </thead>\n",
       "  <tbody>\n",
       "    <tr>\n",
       "      <th>count</th>\n",
       "      <td>891.000000</td>\n",
       "      <td>891.000000</td>\n",
       "      <td>891.000000</td>\n",
       "      <td>891.00000</td>\n",
       "      <td>891.000000</td>\n",
       "      <td>891.000000</td>\n",
       "      <td>891.000000</td>\n",
       "    </tr>\n",
       "    <tr>\n",
       "      <th>mean</th>\n",
       "      <td>446.000000</td>\n",
       "      <td>0.383838</td>\n",
       "      <td>2.308642</td>\n",
       "      <td>29.58156</td>\n",
       "      <td>0.523008</td>\n",
       "      <td>0.381594</td>\n",
       "      <td>32.204208</td>\n",
       "    </tr>\n",
       "    <tr>\n",
       "      <th>std</th>\n",
       "      <td>257.353842</td>\n",
       "      <td>0.486592</td>\n",
       "      <td>0.836071</td>\n",
       "      <td>14.55459</td>\n",
       "      <td>1.102743</td>\n",
       "      <td>0.806057</td>\n",
       "      <td>49.693429</td>\n",
       "    </tr>\n",
       "    <tr>\n",
       "      <th>min</th>\n",
       "      <td>1.000000</td>\n",
       "      <td>0.000000</td>\n",
       "      <td>1.000000</td>\n",
       "      <td>0.42000</td>\n",
       "      <td>0.000000</td>\n",
       "      <td>0.000000</td>\n",
       "      <td>0.000000</td>\n",
       "    </tr>\n",
       "    <tr>\n",
       "      <th>25%</th>\n",
       "      <td>223.500000</td>\n",
       "      <td>0.000000</td>\n",
       "      <td>2.000000</td>\n",
       "      <td>20.00000</td>\n",
       "      <td>0.000000</td>\n",
       "      <td>0.000000</td>\n",
       "      <td>7.910400</td>\n",
       "    </tr>\n",
       "    <tr>\n",
       "      <th>50%</th>\n",
       "      <td>446.000000</td>\n",
       "      <td>0.000000</td>\n",
       "      <td>3.000000</td>\n",
       "      <td>28.00000</td>\n",
       "      <td>0.000000</td>\n",
       "      <td>0.000000</td>\n",
       "      <td>14.454200</td>\n",
       "    </tr>\n",
       "    <tr>\n",
       "      <th>75%</th>\n",
       "      <td>668.500000</td>\n",
       "      <td>1.000000</td>\n",
       "      <td>3.000000</td>\n",
       "      <td>38.00000</td>\n",
       "      <td>1.000000</td>\n",
       "      <td>0.000000</td>\n",
       "      <td>31.000000</td>\n",
       "    </tr>\n",
       "    <tr>\n",
       "      <th>max</th>\n",
       "      <td>891.000000</td>\n",
       "      <td>1.000000</td>\n",
       "      <td>3.000000</td>\n",
       "      <td>80.00000</td>\n",
       "      <td>8.000000</td>\n",
       "      <td>6.000000</td>\n",
       "      <td>512.329200</td>\n",
       "    </tr>\n",
       "  </tbody>\n",
       "</table>\n",
       "</div>"
      ],
      "text/plain": [
       "       PassengerId    Survived      Pclass        Age       SibSp       Parch  \\\n",
       "count   891.000000  891.000000  891.000000  891.00000  891.000000  891.000000   \n",
       "mean    446.000000    0.383838    2.308642   29.58156    0.523008    0.381594   \n",
       "std     257.353842    0.486592    0.836071   14.55459    1.102743    0.806057   \n",
       "min       1.000000    0.000000    1.000000    0.42000    0.000000    0.000000   \n",
       "25%     223.500000    0.000000    2.000000   20.00000    0.000000    0.000000   \n",
       "50%     446.000000    0.000000    3.000000   28.00000    0.000000    0.000000   \n",
       "75%     668.500000    1.000000    3.000000   38.00000    1.000000    0.000000   \n",
       "max     891.000000    1.000000    3.000000   80.00000    8.000000    6.000000   \n",
       "\n",
       "             Fare  \n",
       "count  891.000000  \n",
       "mean    32.204208  \n",
       "std     49.693429  \n",
       "min      0.000000  \n",
       "25%      7.910400  \n",
       "50%     14.454200  \n",
       "75%     31.000000  \n",
       "max    512.329200  "
      ]
     },
     "execution_count": 31,
     "metadata": {},
     "output_type": "execute_result"
    }
   ],
   "source": [
    "titanic_df.describe()"
   ]
  },
  {
   "cell_type": "markdown",
   "id": "9bfbcd8f-fb04-4bf8-bde2-34b451513555",
   "metadata": {},
   "source": [
    "#### Q16:\n",
    "    Create boolean values by comparing each value in a column to a given condition"
   ]
  },
  {
   "cell_type": "code",
   "execution_count": 32,
   "id": "84da2efc-d810-4076-8bc5-9e8e2d40cbad",
   "metadata": {},
   "outputs": [
    {
     "data": {
      "text/plain": [
       "0      True\n",
       "1      True\n",
       "2      True\n",
       "3      True\n",
       "4      True\n",
       "       ... \n",
       "886    True\n",
       "887    True\n",
       "888    True\n",
       "889    True\n",
       "890    True\n",
       "Name: Age, Length: 891, dtype: bool"
      ]
     },
     "execution_count": 32,
     "metadata": {},
     "output_type": "execute_result"
    }
   ],
   "source": [
    "adult_cond = titanic_df['Age'] >= 18\n",
    "adult_cond"
   ]
  },
  {
   "cell_type": "code",
   "execution_count": 33,
   "id": "a394a5eb-6082-43c0-8fc4-9f7af942b156",
   "metadata": {},
   "outputs": [
    {
     "name": "stdout",
     "output_type": "stream",
     "text": [
      "<class 'pandas.core.series.Series'>\n"
     ]
    }
   ],
   "source": [
    "print(type( adult_cond ))"
   ]
  },
  {
   "cell_type": "code",
   "execution_count": 34,
   "id": "b0c57594-299a-41ee-a842-1f26a5e2f3b3",
   "metadata": {},
   "outputs": [
    {
     "name": "stdout",
     "output_type": "stream",
     "text": [
      "891\n"
     ]
    }
   ],
   "source": [
    "print(len( adult_cond ))"
   ]
  },
  {
   "cell_type": "markdown",
   "id": "0f529f77-b102-4ebd-bd76-2f7e1896c3df",
   "metadata": {},
   "source": [
    "#### Q17:\n",
    "    Filter a pandas dataframe based on a condition of one of its series"
   ]
  },
  {
   "cell_type": "code",
   "execution_count": 35,
   "id": "7a911182-374f-471a-adf8-1f6cdc2ccede",
   "metadata": {},
   "outputs": [
    {
     "data": {
      "text/html": [
       "<div>\n",
       "<style scoped>\n",
       "    .dataframe tbody tr th:only-of-type {\n",
       "        vertical-align: middle;\n",
       "    }\n",
       "\n",
       "    .dataframe tbody tr th {\n",
       "        vertical-align: top;\n",
       "    }\n",
       "\n",
       "    .dataframe thead th {\n",
       "        text-align: right;\n",
       "    }\n",
       "</style>\n",
       "<table border=\"1\" class=\"dataframe\">\n",
       "  <thead>\n",
       "    <tr style=\"text-align: right;\">\n",
       "      <th></th>\n",
       "      <th>PassengerId</th>\n",
       "      <th>Survived</th>\n",
       "      <th>Pclass</th>\n",
       "      <th>Name</th>\n",
       "      <th>Sex</th>\n",
       "      <th>Age</th>\n",
       "      <th>SibSp</th>\n",
       "      <th>Parch</th>\n",
       "      <th>Ticket</th>\n",
       "      <th>Fare</th>\n",
       "      <th>Cabin</th>\n",
       "      <th>Embarked</th>\n",
       "    </tr>\n",
       "  </thead>\n",
       "  <tbody>\n",
       "    <tr>\n",
       "      <th>0</th>\n",
       "      <td>1</td>\n",
       "      <td>0</td>\n",
       "      <td>3</td>\n",
       "      <td>Braund, Mr. Owen Harris</td>\n",
       "      <td>male</td>\n",
       "      <td>22.0</td>\n",
       "      <td>1</td>\n",
       "      <td>0</td>\n",
       "      <td>A/5 21171</td>\n",
       "      <td>7.2500</td>\n",
       "      <td>A001</td>\n",
       "      <td>S</td>\n",
       "    </tr>\n",
       "    <tr>\n",
       "      <th>1</th>\n",
       "      <td>2</td>\n",
       "      <td>1</td>\n",
       "      <td>1</td>\n",
       "      <td>Cumings, Mrs. John Bradley (Florence Briggs Th...</td>\n",
       "      <td>female</td>\n",
       "      <td>38.0</td>\n",
       "      <td>1</td>\n",
       "      <td>0</td>\n",
       "      <td>PC 17599</td>\n",
       "      <td>71.2833</td>\n",
       "      <td>C85</td>\n",
       "      <td>C</td>\n",
       "    </tr>\n",
       "    <tr>\n",
       "      <th>2</th>\n",
       "      <td>3</td>\n",
       "      <td>1</td>\n",
       "      <td>3</td>\n",
       "      <td>Heikkinen, Miss. Laina</td>\n",
       "      <td>female</td>\n",
       "      <td>26.0</td>\n",
       "      <td>0</td>\n",
       "      <td>0</td>\n",
       "      <td>STON/O2. 3101282</td>\n",
       "      <td>7.9250</td>\n",
       "      <td>C85</td>\n",
       "      <td>S</td>\n",
       "    </tr>\n",
       "    <tr>\n",
       "      <th>3</th>\n",
       "      <td>4</td>\n",
       "      <td>1</td>\n",
       "      <td>1</td>\n",
       "      <td>Futrelle, Mrs. Jacques Heath (Lily May Peel)</td>\n",
       "      <td>female</td>\n",
       "      <td>35.0</td>\n",
       "      <td>1</td>\n",
       "      <td>0</td>\n",
       "      <td>113803</td>\n",
       "      <td>53.1000</td>\n",
       "      <td>C123</td>\n",
       "      <td>S</td>\n",
       "    </tr>\n",
       "    <tr>\n",
       "      <th>4</th>\n",
       "      <td>5</td>\n",
       "      <td>0</td>\n",
       "      <td>3</td>\n",
       "      <td>Allen, Mr. William Henry</td>\n",
       "      <td>male</td>\n",
       "      <td>35.0</td>\n",
       "      <td>0</td>\n",
       "      <td>0</td>\n",
       "      <td>373450</td>\n",
       "      <td>8.0500</td>\n",
       "      <td>C123</td>\n",
       "      <td>S</td>\n",
       "    </tr>\n",
       "    <tr>\n",
       "      <th>...</th>\n",
       "      <td>...</td>\n",
       "      <td>...</td>\n",
       "      <td>...</td>\n",
       "      <td>...</td>\n",
       "      <td>...</td>\n",
       "      <td>...</td>\n",
       "      <td>...</td>\n",
       "      <td>...</td>\n",
       "      <td>...</td>\n",
       "      <td>...</td>\n",
       "      <td>...</td>\n",
       "      <td>...</td>\n",
       "    </tr>\n",
       "    <tr>\n",
       "      <th>886</th>\n",
       "      <td>887</td>\n",
       "      <td>0</td>\n",
       "      <td>2</td>\n",
       "      <td>Montvila, Rev. Juozas</td>\n",
       "      <td>male</td>\n",
       "      <td>27.0</td>\n",
       "      <td>0</td>\n",
       "      <td>0</td>\n",
       "      <td>211536</td>\n",
       "      <td>13.0000</td>\n",
       "      <td>C50</td>\n",
       "      <td>S</td>\n",
       "    </tr>\n",
       "    <tr>\n",
       "      <th>887</th>\n",
       "      <td>888</td>\n",
       "      <td>1</td>\n",
       "      <td>1</td>\n",
       "      <td>Graham, Miss. Margaret Edith</td>\n",
       "      <td>female</td>\n",
       "      <td>19.0</td>\n",
       "      <td>0</td>\n",
       "      <td>0</td>\n",
       "      <td>112053</td>\n",
       "      <td>30.0000</td>\n",
       "      <td>B42</td>\n",
       "      <td>S</td>\n",
       "    </tr>\n",
       "    <tr>\n",
       "      <th>888</th>\n",
       "      <td>889</td>\n",
       "      <td>0</td>\n",
       "      <td>3</td>\n",
       "      <td>Johnston, Miss. Catherine Helen \"Carrie\"</td>\n",
       "      <td>female</td>\n",
       "      <td>19.0</td>\n",
       "      <td>1</td>\n",
       "      <td>2</td>\n",
       "      <td>W./C. 6607</td>\n",
       "      <td>23.4500</td>\n",
       "      <td>B42</td>\n",
       "      <td>S</td>\n",
       "    </tr>\n",
       "    <tr>\n",
       "      <th>889</th>\n",
       "      <td>890</td>\n",
       "      <td>1</td>\n",
       "      <td>1</td>\n",
       "      <td>Behr, Mr. Karl Howell</td>\n",
       "      <td>male</td>\n",
       "      <td>26.0</td>\n",
       "      <td>0</td>\n",
       "      <td>0</td>\n",
       "      <td>111369</td>\n",
       "      <td>30.0000</td>\n",
       "      <td>C148</td>\n",
       "      <td>C</td>\n",
       "    </tr>\n",
       "    <tr>\n",
       "      <th>890</th>\n",
       "      <td>891</td>\n",
       "      <td>0</td>\n",
       "      <td>3</td>\n",
       "      <td>Dooley, Mr. Patrick</td>\n",
       "      <td>male</td>\n",
       "      <td>32.0</td>\n",
       "      <td>0</td>\n",
       "      <td>0</td>\n",
       "      <td>370376</td>\n",
       "      <td>7.7500</td>\n",
       "      <td>C148</td>\n",
       "      <td>Q</td>\n",
       "    </tr>\n",
       "  </tbody>\n",
       "</table>\n",
       "<p>748 rows × 12 columns</p>\n",
       "</div>"
      ],
      "text/plain": [
       "     PassengerId  Survived  Pclass  \\\n",
       "0              1         0       3   \n",
       "1              2         1       1   \n",
       "2              3         1       3   \n",
       "3              4         1       1   \n",
       "4              5         0       3   \n",
       "..           ...       ...     ...   \n",
       "886          887         0       2   \n",
       "887          888         1       1   \n",
       "888          889         0       3   \n",
       "889          890         1       1   \n",
       "890          891         0       3   \n",
       "\n",
       "                                                  Name     Sex   Age  SibSp  \\\n",
       "0                              Braund, Mr. Owen Harris    male  22.0      1   \n",
       "1    Cumings, Mrs. John Bradley (Florence Briggs Th...  female  38.0      1   \n",
       "2                               Heikkinen, Miss. Laina  female  26.0      0   \n",
       "3         Futrelle, Mrs. Jacques Heath (Lily May Peel)  female  35.0      1   \n",
       "4                             Allen, Mr. William Henry    male  35.0      0   \n",
       "..                                                 ...     ...   ...    ...   \n",
       "886                              Montvila, Rev. Juozas    male  27.0      0   \n",
       "887                       Graham, Miss. Margaret Edith  female  19.0      0   \n",
       "888           Johnston, Miss. Catherine Helen \"Carrie\"  female  19.0      1   \n",
       "889                              Behr, Mr. Karl Howell    male  26.0      0   \n",
       "890                                Dooley, Mr. Patrick    male  32.0      0   \n",
       "\n",
       "     Parch            Ticket     Fare Cabin Embarked  \n",
       "0        0         A/5 21171   7.2500  A001        S  \n",
       "1        0          PC 17599  71.2833   C85        C  \n",
       "2        0  STON/O2. 3101282   7.9250   C85        S  \n",
       "3        0            113803  53.1000  C123        S  \n",
       "4        0            373450   8.0500  C123        S  \n",
       "..     ...               ...      ...   ...      ...  \n",
       "886      0            211536  13.0000   C50        S  \n",
       "887      0            112053  30.0000   B42        S  \n",
       "888      2        W./C. 6607  23.4500   B42        S  \n",
       "889      0            111369  30.0000  C148        C  \n",
       "890      0            370376   7.7500  C148        Q  \n",
       "\n",
       "[748 rows x 12 columns]"
      ]
     },
     "execution_count": 35,
     "metadata": {},
     "output_type": "execute_result"
    }
   ],
   "source": [
    "titanic_df[adult_cond]"
   ]
  },
  {
   "cell_type": "code",
   "execution_count": 36,
   "id": "069bba73-9092-48c9-9599-666127b2a50f",
   "metadata": {},
   "outputs": [
    {
     "data": {
      "text/html": [
       "<div>\n",
       "<style scoped>\n",
       "    .dataframe tbody tr th:only-of-type {\n",
       "        vertical-align: middle;\n",
       "    }\n",
       "\n",
       "    .dataframe tbody tr th {\n",
       "        vertical-align: top;\n",
       "    }\n",
       "\n",
       "    .dataframe thead th {\n",
       "        text-align: right;\n",
       "    }\n",
       "</style>\n",
       "<table border=\"1\" class=\"dataframe\">\n",
       "  <thead>\n",
       "    <tr style=\"text-align: right;\">\n",
       "      <th></th>\n",
       "      <th>PassengerId</th>\n",
       "      <th>Survived</th>\n",
       "      <th>Pclass</th>\n",
       "      <th>Name</th>\n",
       "      <th>Sex</th>\n",
       "      <th>Age</th>\n",
       "      <th>SibSp</th>\n",
       "      <th>Parch</th>\n",
       "      <th>Ticket</th>\n",
       "      <th>Fare</th>\n",
       "      <th>Cabin</th>\n",
       "      <th>Embarked</th>\n",
       "    </tr>\n",
       "  </thead>\n",
       "  <tbody>\n",
       "    <tr>\n",
       "      <th>1</th>\n",
       "      <td>2</td>\n",
       "      <td>1</td>\n",
       "      <td>1</td>\n",
       "      <td>Cumings, Mrs. John Bradley (Florence Briggs Th...</td>\n",
       "      <td>female</td>\n",
       "      <td>38.0</td>\n",
       "      <td>1</td>\n",
       "      <td>0</td>\n",
       "      <td>PC 17599</td>\n",
       "      <td>71.2833</td>\n",
       "      <td>C85</td>\n",
       "      <td>C</td>\n",
       "    </tr>\n",
       "    <tr>\n",
       "      <th>3</th>\n",
       "      <td>4</td>\n",
       "      <td>1</td>\n",
       "      <td>1</td>\n",
       "      <td>Futrelle, Mrs. Jacques Heath (Lily May Peel)</td>\n",
       "      <td>female</td>\n",
       "      <td>35.0</td>\n",
       "      <td>1</td>\n",
       "      <td>0</td>\n",
       "      <td>113803</td>\n",
       "      <td>53.1000</td>\n",
       "      <td>C123</td>\n",
       "      <td>S</td>\n",
       "    </tr>\n",
       "    <tr>\n",
       "      <th>6</th>\n",
       "      <td>7</td>\n",
       "      <td>0</td>\n",
       "      <td>1</td>\n",
       "      <td>McCarthy, Mr. Timothy J</td>\n",
       "      <td>male</td>\n",
       "      <td>54.0</td>\n",
       "      <td>0</td>\n",
       "      <td>0</td>\n",
       "      <td>17463</td>\n",
       "      <td>51.8625</td>\n",
       "      <td>E46</td>\n",
       "      <td>S</td>\n",
       "    </tr>\n",
       "    <tr>\n",
       "      <th>7</th>\n",
       "      <td>8</td>\n",
       "      <td>0</td>\n",
       "      <td>3</td>\n",
       "      <td>Palsson, Master. Gosta Leonard</td>\n",
       "      <td>male</td>\n",
       "      <td>2.0</td>\n",
       "      <td>3</td>\n",
       "      <td>1</td>\n",
       "      <td>349909</td>\n",
       "      <td>21.0750</td>\n",
       "      <td>E46</td>\n",
       "      <td>S</td>\n",
       "    </tr>\n",
       "    <tr>\n",
       "      <th>9</th>\n",
       "      <td>10</td>\n",
       "      <td>1</td>\n",
       "      <td>2</td>\n",
       "      <td>Nasser, Mrs. Nicholas (Adele Achem)</td>\n",
       "      <td>female</td>\n",
       "      <td>14.0</td>\n",
       "      <td>1</td>\n",
       "      <td>0</td>\n",
       "      <td>237736</td>\n",
       "      <td>30.0708</td>\n",
       "      <td>E46</td>\n",
       "      <td>C</td>\n",
       "    </tr>\n",
       "    <tr>\n",
       "      <th>...</th>\n",
       "      <td>...</td>\n",
       "      <td>...</td>\n",
       "      <td>...</td>\n",
       "      <td>...</td>\n",
       "      <td>...</td>\n",
       "      <td>...</td>\n",
       "      <td>...</td>\n",
       "      <td>...</td>\n",
       "      <td>...</td>\n",
       "      <td>...</td>\n",
       "      <td>...</td>\n",
       "      <td>...</td>\n",
       "    </tr>\n",
       "    <tr>\n",
       "      <th>880</th>\n",
       "      <td>881</td>\n",
       "      <td>1</td>\n",
       "      <td>2</td>\n",
       "      <td>Shelley, Mrs. William (Imanita Parrish Hall)</td>\n",
       "      <td>female</td>\n",
       "      <td>25.0</td>\n",
       "      <td>0</td>\n",
       "      <td>1</td>\n",
       "      <td>230433</td>\n",
       "      <td>26.0000</td>\n",
       "      <td>C50</td>\n",
       "      <td>S</td>\n",
       "    </tr>\n",
       "    <tr>\n",
       "      <th>885</th>\n",
       "      <td>886</td>\n",
       "      <td>0</td>\n",
       "      <td>3</td>\n",
       "      <td>Rice, Mrs. William (Margaret Norton)</td>\n",
       "      <td>female</td>\n",
       "      <td>39.0</td>\n",
       "      <td>0</td>\n",
       "      <td>5</td>\n",
       "      <td>382652</td>\n",
       "      <td>29.1250</td>\n",
       "      <td>C50</td>\n",
       "      <td>Q</td>\n",
       "    </tr>\n",
       "    <tr>\n",
       "      <th>887</th>\n",
       "      <td>888</td>\n",
       "      <td>1</td>\n",
       "      <td>1</td>\n",
       "      <td>Graham, Miss. Margaret Edith</td>\n",
       "      <td>female</td>\n",
       "      <td>19.0</td>\n",
       "      <td>0</td>\n",
       "      <td>0</td>\n",
       "      <td>112053</td>\n",
       "      <td>30.0000</td>\n",
       "      <td>B42</td>\n",
       "      <td>S</td>\n",
       "    </tr>\n",
       "    <tr>\n",
       "      <th>888</th>\n",
       "      <td>889</td>\n",
       "      <td>0</td>\n",
       "      <td>3</td>\n",
       "      <td>Johnston, Miss. Catherine Helen \"Carrie\"</td>\n",
       "      <td>female</td>\n",
       "      <td>19.0</td>\n",
       "      <td>1</td>\n",
       "      <td>2</td>\n",
       "      <td>W./C. 6607</td>\n",
       "      <td>23.4500</td>\n",
       "      <td>B42</td>\n",
       "      <td>S</td>\n",
       "    </tr>\n",
       "    <tr>\n",
       "      <th>889</th>\n",
       "      <td>890</td>\n",
       "      <td>1</td>\n",
       "      <td>1</td>\n",
       "      <td>Behr, Mr. Karl Howell</td>\n",
       "      <td>male</td>\n",
       "      <td>26.0</td>\n",
       "      <td>0</td>\n",
       "      <td>0</td>\n",
       "      <td>111369</td>\n",
       "      <td>30.0000</td>\n",
       "      <td>C148</td>\n",
       "      <td>C</td>\n",
       "    </tr>\n",
       "  </tbody>\n",
       "</table>\n",
       "<p>433 rows × 12 columns</p>\n",
       "</div>"
      ],
      "text/plain": [
       "     PassengerId  Survived  Pclass  \\\n",
       "1              2         1       1   \n",
       "3              4         1       1   \n",
       "6              7         0       1   \n",
       "7              8         0       3   \n",
       "9             10         1       2   \n",
       "..           ...       ...     ...   \n",
       "880          881         1       2   \n",
       "885          886         0       3   \n",
       "887          888         1       1   \n",
       "888          889         0       3   \n",
       "889          890         1       1   \n",
       "\n",
       "                                                  Name     Sex   Age  SibSp  \\\n",
       "1    Cumings, Mrs. John Bradley (Florence Briggs Th...  female  38.0      1   \n",
       "3         Futrelle, Mrs. Jacques Heath (Lily May Peel)  female  35.0      1   \n",
       "6                              McCarthy, Mr. Timothy J    male  54.0      0   \n",
       "7                       Palsson, Master. Gosta Leonard    male   2.0      3   \n",
       "9                  Nasser, Mrs. Nicholas (Adele Achem)  female  14.0      1   \n",
       "..                                                 ...     ...   ...    ...   \n",
       "880       Shelley, Mrs. William (Imanita Parrish Hall)  female  25.0      0   \n",
       "885               Rice, Mrs. William (Margaret Norton)  female  39.0      0   \n",
       "887                       Graham, Miss. Margaret Edith  female  19.0      0   \n",
       "888           Johnston, Miss. Catherine Helen \"Carrie\"  female  19.0      1   \n",
       "889                              Behr, Mr. Karl Howell    male  26.0      0   \n",
       "\n",
       "     Parch      Ticket     Fare Cabin Embarked  \n",
       "1        0    PC 17599  71.2833   C85        C  \n",
       "3        0      113803  53.1000  C123        S  \n",
       "6        0       17463  51.8625   E46        S  \n",
       "7        1      349909  21.0750   E46        S  \n",
       "9        0      237736  30.0708   E46        C  \n",
       "..     ...         ...      ...   ...      ...  \n",
       "880      1      230433  26.0000   C50        S  \n",
       "885      5      382652  29.1250   C50        Q  \n",
       "887      0      112053  30.0000   B42        S  \n",
       "888      2  W./C. 6607  23.4500   B42        S  \n",
       "889      0      111369  30.0000  C148        C  \n",
       "\n",
       "[433 rows x 12 columns]"
      ]
     },
     "execution_count": 36,
     "metadata": {},
     "output_type": "execute_result"
    }
   ],
   "source": [
    "tkt_above_fifteen_cond = titanic_df['Fare'] > 15\n",
    "titanic_df[tkt_above_fifteen_cond]"
   ]
  },
  {
   "cell_type": "markdown",
   "id": "50158cf9-8e70-4b32-91d1-71568bc34f48",
   "metadata": {},
   "source": [
    "#### Q18:\n",
    "    Find those columns that have null values (nan) using .isnull().any() .isna().any() methods"
   ]
  },
  {
   "cell_type": "code",
   "execution_count": 37,
   "id": "cbce5fda-8692-466d-a670-d4a68ff315f9",
   "metadata": {},
   "outputs": [
    {
     "data": {
      "text/plain": [
       "array(['male', 'female', nan], dtype=object)"
      ]
     },
     "execution_count": 37,
     "metadata": {},
     "output_type": "execute_result"
    }
   ],
   "source": [
    "titanic_df['Sex'].unique()"
   ]
  },
  {
   "cell_type": "code",
   "execution_count": 38,
   "id": "2f6a557d-7773-47bf-b499-97f407875362",
   "metadata": {},
   "outputs": [
    {
     "data": {
      "text/plain": [
       "PassengerId    False\n",
       "Survived       False\n",
       "Pclass         False\n",
       "Name           False\n",
       "Sex             True\n",
       "Age            False\n",
       "SibSp          False\n",
       "Parch          False\n",
       "Ticket         False\n",
       "Fare           False\n",
       "Cabin          False\n",
       "Embarked       False\n",
       "dtype: bool"
      ]
     },
     "execution_count": 38,
     "metadata": {},
     "output_type": "execute_result"
    }
   ],
   "source": [
    "titanic_df.isnull().any()"
   ]
  },
  {
   "cell_type": "code",
   "execution_count": 39,
   "id": "01832cee-1c8f-49e4-8153-972aad24aae8",
   "metadata": {},
   "outputs": [
    {
     "data": {
      "text/plain": [
       "PassengerId    0\n",
       "Survived       0\n",
       "Pclass         0\n",
       "Name           0\n",
       "Sex            1\n",
       "Age            0\n",
       "SibSp          0\n",
       "Parch          0\n",
       "Ticket         0\n",
       "Fare           0\n",
       "Cabin          0\n",
       "Embarked       0\n",
       "dtype: int64"
      ]
     },
     "execution_count": 39,
     "metadata": {},
     "output_type": "execute_result"
    }
   ],
   "source": [
    "titanic_df.isnull().sum()"
   ]
  },
  {
   "cell_type": "markdown",
   "id": "b2b73310-6aa7-48af-9c4c-f5af606710a9",
   "metadata": {},
   "source": [
    "#### Q19:\n",
    "    Replace the null value in the 'Sex' column with 'male'"
   ]
  },
  {
   "cell_type": "code",
   "execution_count": 42,
   "id": "6a49defc-9f10-477c-921d-6065ffa41cca",
   "metadata": {},
   "outputs": [],
   "source": [
    "titanic_df['Sex'].fillna('male', inplace=True)"
   ]
  },
  {
   "cell_type": "code",
   "execution_count": 43,
   "id": "64786832-785a-4a65-a337-2f39d1171dda",
   "metadata": {},
   "outputs": [
    {
     "data": {
      "text/plain": [
       "array(['male', 'female'], dtype=object)"
      ]
     },
     "execution_count": 43,
     "metadata": {},
     "output_type": "execute_result"
    }
   ],
   "source": [
    "titanic_df['Sex'].unique()"
   ]
  },
  {
   "cell_type": "markdown",
   "id": "131952d7-5149-4352-bc85-eb877473667b",
   "metadata": {},
   "source": [
    "#### Q20:\n",
    "    Import seaborn as sns"
   ]
  },
  {
   "cell_type": "markdown",
   "id": "7df90854-55fe-4668-91ac-1c6d7b3fc840",
   "metadata": {},
   "source": [
    "#### Q21:\n",
    "    Compare two columns both having a numeric datatype using the relplot() seaborn function"
   ]
  },
  {
   "cell_type": "code",
   "execution_count": 44,
   "id": "6dc3317c-453e-43c4-9e21-e0176b8980f1",
   "metadata": {},
   "outputs": [
    {
     "data": {
      "text/plain": [
       "<seaborn.axisgrid.FacetGrid at 0x281c6f0cf10>"
      ]
     },
     "execution_count": 44,
     "metadata": {},
     "output_type": "execute_result"
    },
    {
     "data": {
      "image/png": "[encoded data removed]",
      "text/plain": [
       "<Figure size 360x360 with 1 Axes>"
      ]
     },
     "metadata": {
      "needs_background": "light"
     },
     "output_type": "display_data"
    }
   ],
   "source": [
    "sns.relplot(data=titanic_df, x='Age', y='Fare')"
   ]
  },
  {
   "cell_type": "markdown",
   "id": "ec2c04c1-792d-4d15-8a9c-65148e68b0ee",
   "metadata": {},
   "source": [
    "#### Q22:\n",
    "    Display the distribution of ticket prices in the Fare column"
   ]
  },
  {
   "cell_type": "code",
   "execution_count": 45,
   "id": "14c6b1fa-4169-401e-9171-49515abb95f0",
   "metadata": {},
   "outputs": [
    {
     "data": {
      "text/plain": [
       "<seaborn.axisgrid.FacetGrid at 0x281c74e3e20>"
      ]
     },
     "execution_count": 45,
     "metadata": {},
     "output_type": "execute_result"
    },
    {
     "data": {
      "image/png": "[encoded data removed]",
      "text/plain": [
       "<Figure size 360x360 with 1 Axes>"
      ]
     },
     "metadata": {
      "needs_background": "light"
     },
     "output_type": "display_data"
    }
   ],
   "source": [
    "sns.displot(data=titanic_df, x='Fare')"
   ]
  },
  {
   "cell_type": "markdown",
   "id": "68306315-2c2c-4f7a-b47d-1fbfd63db8cb",
   "metadata": {},
   "source": [
    "#### Q23:\n",
    "    Modify the above displot via the bin and binwidth parameters"
   ]
  },
  {
   "cell_type": "code",
   "execution_count": 48,
   "id": "bb6f244f-fcc5-4e96-8c91-534e71eb6555",
   "metadata": {},
   "outputs": [
    {
     "data": {
      "text/plain": [
       "<seaborn.axisgrid.FacetGrid at 0x281c74a7ca0>"
      ]
     },
     "execution_count": 48,
     "metadata": {},
     "output_type": "execute_result"
    },
    {
     "data": {
      "image/png": "[encoded data removed]",
      "text/plain": [
       "<Figure size 360x360 with 1 Axes>"
      ]
     },
     "metadata": {
      "needs_background": "light"
     },
     "output_type": "display_data"
    }
   ],
   "source": [
    "sns.displot(data=titanic_df, x='Fare', bins=20)"
   ]
  },
  {
   "cell_type": "code",
   "execution_count": 49,
   "id": "aa737594-623f-4353-9325-07df42dc57e4",
   "metadata": {},
   "outputs": [
    {
     "data": {
      "text/plain": [
       "<seaborn.axisgrid.FacetGrid at 0x281c78fca90>"
      ]
     },
     "execution_count": 49,
     "metadata": {},
     "output_type": "execute_result"
    },
    {
     "data": {
      "image/png": "[encoded data removed]",
      "text/plain": [
       "<Figure size 360x360 with 1 Axes>"
      ]
     },
     "metadata": {
      "needs_background": "light"
     },
     "output_type": "display_data"
    }
   ],
   "source": [
    "sns.displot(data=titanic_df, x='Fare', binwidth=50)"
   ]
  },
  {
   "cell_type": "markdown",
   "id": "9da1d056-c797-4b40-bd90-d63712cb436c",
   "metadata": {},
   "source": [
    "#### Q24:\n",
    "    Show the distribution of ticket prices in the Fare column from the perspective of PClass"
   ]
  },
  {
   "cell_type": "code",
   "execution_count": 51,
   "id": "7a41ceeb-f4f3-431f-8623-efee3053eed4",
   "metadata": {},
   "outputs": [
    {
     "data": {
      "text/plain": [
       "<seaborn.axisgrid.FacetGrid at 0x281c71691c0>"
      ]
     },
     "execution_count": 51,
     "metadata": {},
     "output_type": "execute_result"
    },
    {
     "data": {
      "image/png": "[encoded data removed]",
      "text/plain": [
       "<Figure size 402.375x360 with 1 Axes>"
      ]
     },
     "metadata": {
      "needs_background": "light"
     },
     "output_type": "display_data"
    }
   ],
   "source": [
    "sns.displot(data=titanic_df, x='Fare', hue='Pclass', binwidth=50)"
   ]
  },
  {
   "cell_type": "markdown",
   "id": "d160e22d-52d3-40ed-ae29-422f2b8b9187",
   "metadata": {},
   "source": [
    "#### Q25:\n",
    "    Explore available datasets using seaborn's .get_dataset_names() function"
   ]
  },
  {
   "cell_type": "code",
   "execution_count": 54,
   "id": "52fc111f-f0e9-4d26-9c54-65ec96a84961",
   "metadata": {},
   "outputs": [
    {
     "name": "stdout",
     "output_type": "stream",
     "text": [
      "['anagrams', 'anscombe', 'attention', 'brain_networks', 'car_crashes', 'diamonds', 'dots', 'exercise', 'flights', 'fmri', 'gammas', 'geyser', 'iris', 'mpg', 'penguins', 'planets', 'taxis', 'tips', 'titanic']\n"
     ]
    }
   ],
   "source": [
    "print(sns.get_dataset_names())"
   ]
  },
  {
   "cell_type": "code",
   "execution_count": 56,
   "id": "9a39baa8-fd55-4e48-9a63-937bffb67675",
   "metadata": {},
   "outputs": [
    {
     "data": {
      "text/html": [
       "<div>\n",
       "<style scoped>\n",
       "    .dataframe tbody tr th:only-of-type {\n",
       "        vertical-align: middle;\n",
       "    }\n",
       "\n",
       "    .dataframe tbody tr th {\n",
       "        vertical-align: top;\n",
       "    }\n",
       "\n",
       "    .dataframe thead th {\n",
       "        text-align: right;\n",
       "    }\n",
       "</style>\n",
       "<table border=\"1\" class=\"dataframe\">\n",
       "  <thead>\n",
       "    <tr style=\"text-align: right;\">\n",
       "      <th></th>\n",
       "      <th>year</th>\n",
       "      <th>month</th>\n",
       "      <th>passengers</th>\n",
       "    </tr>\n",
       "  </thead>\n",
       "  <tbody>\n",
       "    <tr>\n",
       "      <th>0</th>\n",
       "      <td>1949</td>\n",
       "      <td>Jan</td>\n",
       "      <td>112</td>\n",
       "    </tr>\n",
       "    <tr>\n",
       "      <th>1</th>\n",
       "      <td>1949</td>\n",
       "      <td>Feb</td>\n",
       "      <td>118</td>\n",
       "    </tr>\n",
       "    <tr>\n",
       "      <th>2</th>\n",
       "      <td>1949</td>\n",
       "      <td>Mar</td>\n",
       "      <td>132</td>\n",
       "    </tr>\n",
       "    <tr>\n",
       "      <th>3</th>\n",
       "      <td>1949</td>\n",
       "      <td>Apr</td>\n",
       "      <td>129</td>\n",
       "    </tr>\n",
       "    <tr>\n",
       "      <th>4</th>\n",
       "      <td>1949</td>\n",
       "      <td>May</td>\n",
       "      <td>121</td>\n",
       "    </tr>\n",
       "    <tr>\n",
       "      <th>...</th>\n",
       "      <td>...</td>\n",
       "      <td>...</td>\n",
       "      <td>...</td>\n",
       "    </tr>\n",
       "    <tr>\n",
       "      <th>139</th>\n",
       "      <td>1960</td>\n",
       "      <td>Aug</td>\n",
       "      <td>606</td>\n",
       "    </tr>\n",
       "    <tr>\n",
       "      <th>140</th>\n",
       "      <td>1960</td>\n",
       "      <td>Sep</td>\n",
       "      <td>508</td>\n",
       "    </tr>\n",
       "    <tr>\n",
       "      <th>141</th>\n",
       "      <td>1960</td>\n",
       "      <td>Oct</td>\n",
       "      <td>461</td>\n",
       "    </tr>\n",
       "    <tr>\n",
       "      <th>142</th>\n",
       "      <td>1960</td>\n",
       "      <td>Nov</td>\n",
       "      <td>390</td>\n",
       "    </tr>\n",
       "    <tr>\n",
       "      <th>143</th>\n",
       "      <td>1960</td>\n",
       "      <td>Dec</td>\n",
       "      <td>432</td>\n",
       "    </tr>\n",
       "  </tbody>\n",
       "</table>\n",
       "<p>144 rows × 3 columns</p>\n",
       "</div>"
      ],
      "text/plain": [
       "     year month  passengers\n",
       "0    1949   Jan         112\n",
       "1    1949   Feb         118\n",
       "2    1949   Mar         132\n",
       "3    1949   Apr         129\n",
       "4    1949   May         121\n",
       "..    ...   ...         ...\n",
       "139  1960   Aug         606\n",
       "140  1960   Sep         508\n",
       "141  1960   Oct         461\n",
       "142  1960   Nov         390\n",
       "143  1960   Dec         432\n",
       "\n",
       "[144 rows x 3 columns]"
      ]
     },
     "execution_count": 56,
     "metadata": {},
     "output_type": "execute_result"
    }
   ],
   "source": [
    "sns.load_dataset('flights')"
   ]
  },
  {
   "cell_type": "code",
   "execution_count": 58,
   "id": "b9c0d613-2052-4073-a9a4-8bac1db4c5af",
   "metadata": {},
   "outputs": [
    {
     "data": {
      "text/html": [
       "<div>\n",
       "<style scoped>\n",
       "    .dataframe tbody tr th:only-of-type {\n",
       "        vertical-align: middle;\n",
       "    }\n",
       "\n",
       "    .dataframe tbody tr th {\n",
       "        vertical-align: top;\n",
       "    }\n",
       "\n",
       "    .dataframe thead th {\n",
       "        text-align: right;\n",
       "    }\n",
       "</style>\n",
       "<table border=\"1\" class=\"dataframe\">\n",
       "  <thead>\n",
       "    <tr style=\"text-align: right;\">\n",
       "      <th></th>\n",
       "      <th>total_bill</th>\n",
       "      <th>tip</th>\n",
       "      <th>sex</th>\n",
       "      <th>smoker</th>\n",
       "      <th>day</th>\n",
       "      <th>time</th>\n",
       "      <th>size</th>\n",
       "    </tr>\n",
       "  </thead>\n",
       "  <tbody>\n",
       "    <tr>\n",
       "      <th>0</th>\n",
       "      <td>16.99</td>\n",
       "      <td>1.01</td>\n",
       "      <td>Female</td>\n",
       "      <td>No</td>\n",
       "      <td>Sun</td>\n",
       "      <td>Dinner</td>\n",
       "      <td>2</td>\n",
       "    </tr>\n",
       "    <tr>\n",
       "      <th>1</th>\n",
       "      <td>10.34</td>\n",
       "      <td>1.66</td>\n",
       "      <td>Male</td>\n",
       "      <td>No</td>\n",
       "      <td>Sun</td>\n",
       "      <td>Dinner</td>\n",
       "      <td>3</td>\n",
       "    </tr>\n",
       "    <tr>\n",
       "      <th>2</th>\n",
       "      <td>21.01</td>\n",
       "      <td>3.50</td>\n",
       "      <td>Male</td>\n",
       "      <td>No</td>\n",
       "      <td>Sun</td>\n",
       "      <td>Dinner</td>\n",
       "      <td>3</td>\n",
       "    </tr>\n",
       "    <tr>\n",
       "      <th>3</th>\n",
       "      <td>23.68</td>\n",
       "      <td>3.31</td>\n",
       "      <td>Male</td>\n",
       "      <td>No</td>\n",
       "      <td>Sun</td>\n",
       "      <td>Dinner</td>\n",
       "      <td>2</td>\n",
       "    </tr>\n",
       "    <tr>\n",
       "      <th>4</th>\n",
       "      <td>24.59</td>\n",
       "      <td>3.61</td>\n",
       "      <td>Female</td>\n",
       "      <td>No</td>\n",
       "      <td>Sun</td>\n",
       "      <td>Dinner</td>\n",
       "      <td>4</td>\n",
       "    </tr>\n",
       "    <tr>\n",
       "      <th>...</th>\n",
       "      <td>...</td>\n",
       "      <td>...</td>\n",
       "      <td>...</td>\n",
       "      <td>...</td>\n",
       "      <td>...</td>\n",
       "      <td>...</td>\n",
       "      <td>...</td>\n",
       "    </tr>\n",
       "    <tr>\n",
       "      <th>239</th>\n",
       "      <td>29.03</td>\n",
       "      <td>5.92</td>\n",
       "      <td>Male</td>\n",
       "      <td>No</td>\n",
       "      <td>Sat</td>\n",
       "      <td>Dinner</td>\n",
       "      <td>3</td>\n",
       "    </tr>\n",
       "    <tr>\n",
       "      <th>240</th>\n",
       "      <td>27.18</td>\n",
       "      <td>2.00</td>\n",
       "      <td>Female</td>\n",
       "      <td>Yes</td>\n",
       "      <td>Sat</td>\n",
       "      <td>Dinner</td>\n",
       "      <td>2</td>\n",
       "    </tr>\n",
       "    <tr>\n",
       "      <th>241</th>\n",
       "      <td>22.67</td>\n",
       "      <td>2.00</td>\n",
       "      <td>Male</td>\n",
       "      <td>Yes</td>\n",
       "      <td>Sat</td>\n",
       "      <td>Dinner</td>\n",
       "      <td>2</td>\n",
       "    </tr>\n",
       "    <tr>\n",
       "      <th>242</th>\n",
       "      <td>17.82</td>\n",
       "      <td>1.75</td>\n",
       "      <td>Male</td>\n",
       "      <td>No</td>\n",
       "      <td>Sat</td>\n",
       "      <td>Dinner</td>\n",
       "      <td>2</td>\n",
       "    </tr>\n",
       "    <tr>\n",
       "      <th>243</th>\n",
       "      <td>18.78</td>\n",
       "      <td>3.00</td>\n",
       "      <td>Female</td>\n",
       "      <td>No</td>\n",
       "      <td>Thur</td>\n",
       "      <td>Dinner</td>\n",
       "      <td>2</td>\n",
       "    </tr>\n",
       "  </tbody>\n",
       "</table>\n",
       "<p>244 rows × 7 columns</p>\n",
       "</div>"
      ],
      "text/plain": [
       "     total_bill   tip     sex smoker   day    time  size\n",
       "0         16.99  1.01  Female     No   Sun  Dinner     2\n",
       "1         10.34  1.66    Male     No   Sun  Dinner     3\n",
       "2         21.01  3.50    Male     No   Sun  Dinner     3\n",
       "3         23.68  3.31    Male     No   Sun  Dinner     2\n",
       "4         24.59  3.61  Female     No   Sun  Dinner     4\n",
       "..          ...   ...     ...    ...   ...     ...   ...\n",
       "239       29.03  5.92    Male     No   Sat  Dinner     3\n",
       "240       27.18  2.00  Female    Yes   Sat  Dinner     2\n",
       "241       22.67  2.00    Male    Yes   Sat  Dinner     2\n",
       "242       17.82  1.75    Male     No   Sat  Dinner     2\n",
       "243       18.78  3.00  Female     No  Thur  Dinner     2\n",
       "\n",
       "[244 rows x 7 columns]"
      ]
     },
     "execution_count": 58,
     "metadata": {},
     "output_type": "execute_result"
    }
   ],
   "source": [
    "tips_df = sns.load_dataset('tips')\n",
    "tips_df"
   ]
  },
  {
   "cell_type": "markdown",
   "id": "1578e595-fab7-445f-8eb7-2d68c45debca",
   "metadata": {},
   "source": [
    "#### Q26:\n",
    "    Do a relplot showing totalbill for Thursdays, Fridays, Saturdays, and Sundays"
   ]
  },
  {
   "cell_type": "code",
   "execution_count": 60,
   "id": "7dc93b10-d4aa-4a97-8c4a-a7d7c32011e1",
   "metadata": {},
   "outputs": [
    {
     "data": {
      "text/plain": [
       "['Sun', 'Sat', 'Thur', 'Fri']\n",
       "Categories (4, object): ['Thur', 'Fri', 'Sat', 'Sun']"
      ]
     },
     "execution_count": 60,
     "metadata": {},
     "output_type": "execute_result"
    }
   ],
   "source": [
    "tips_df['day'].unique()"
   ]
  },
  {
   "cell_type": "code",
   "execution_count": 64,
   "id": "033e6055-5ccb-4295-b5d1-ac19a35fa2bc",
   "metadata": {},
   "outputs": [
    {
     "data": {
      "text/plain": [
       "<seaborn.axisgrid.FacetGrid at 0x281cb067e80>"
      ]
     },
     "execution_count": 64,
     "metadata": {},
     "output_type": "execute_result"
    },
    {
     "data": {
      "image/png": "[encoded data removed]",
      "text/plain": [
       "<Figure size 418.875x360 with 1 Axes>"
      ]
     },
     "metadata": {
      "needs_background": "light"
     },
     "output_type": "display_data"
    }
   ],
   "source": [
    "bill_vs_tip = sns.relplot(data=tips_df, x='total_bill', y='tip', hue='day')"
   ]
  },
  {
   "cell_type": "markdown",
   "id": "261864cf-f4ba-4ec8-af67-4ded0fe2924b",
   "metadata": {},
   "source": [
    "#### Q27:\n",
    "    using the plot_handle from above code, change the axes labels to something more user-friendly"
   ]
  },
  {
   "cell_type": "code",
   "execution_count": 68,
   "id": "7eafdc0d-4672-42d1-b788-a6d855e8a9ef",
   "metadata": {},
   "outputs": [
    {
     "data": {
      "text/plain": [
       "<seaborn.axisgrid.FacetGrid at 0x281bddd9130>"
      ]
     },
     "execution_count": 68,
     "metadata": {},
     "output_type": "execute_result"
    },
    {
     "data": {
      "image/png": "[encoded data removed]",
      "text/plain": [
       "<Figure size 418.875x360 with 1 Axes>"
      ]
     },
     "metadata": {
      "needs_background": "light"
     },
     "output_type": "display_data"
    }
   ],
   "source": [
    "%matplotlib inline\n",
    "bill_vs_tip = sns.relplot(data=tips_df, x='total_bill', y='tip', hue='day')\n",
    "bill_vs_tip.set_axis_labels(\"Total Meal Cost ($)\", \"Total Tip ($)\")"
   ]
  },
  {
   "cell_type": "code",
   "execution_count": 69,
   "id": "e07c594e-4ecc-4937-8f44-c14cece27e31",
   "metadata": {},
   "outputs": [
    {
     "data": {
      "text/plain": [
       "'G:\\\\UoH-Programming-for-AIDS\\\\ExerciseSolution'"
      ]
     },
     "execution_count": 69,
     "metadata": {},
     "output_type": "execute_result"
    }
   ],
   "source": [
    "joblib.os.getcwd()"
   ]
  },
  {
   "cell_type": "markdown",
   "id": "3a24b349-4367-4269-8764-d843196a00d8",
   "metadata": {},
   "source": [
    "#### Q28:\n",
    "    Save the above plot onto the filesystem using seaborn's .savefig() method - which can only work on facetgrid objects - thru the figure's handle."
   ]
  },
  {
   "cell_type": "code",
   "execution_count": 70,
   "id": "defa57e5-8df1-410f-9dea-6f41514a34d2",
   "metadata": {},
   "outputs": [
    {
     "name": "stdout",
     "output_type": "stream",
     "text": [
      "<class 'seaborn.axisgrid.FacetGrid'>\n"
     ]
    }
   ],
   "source": [
    "print(type(bill_vs_tip))"
   ]
  },
  {
   "cell_type": "code",
   "execution_count": 71,
   "id": "775d7f79-af91-4a72-909f-6027de5dd58d",
   "metadata": {},
   "outputs": [],
   "source": [
    "fpath = 'wkshp4_ex28.png'\n",
    "\n",
    "bill_vs_tip.savefig(fpath)"
   ]
  },
  {
   "cell_type": "markdown",
   "id": "092326ba-cf17-4f10-8cc4-916f2ff160f0",
   "metadata": {},
   "source": [
    "#### Q29:\n",
    "    Create handles for all plot figures done so far, and store them in a dictionary"
   ]
  },
  {
   "cell_type": "code",
   "execution_count": 72,
   "id": "d8582b34-5d23-4ab9-b5f5-8a3b8959b942",
   "metadata": {
    "collapsed": true,
    "jupyter": {
     "outputs_hidden": true
    },
    "tags": []
   },
   "outputs": [
    {
     "data": {
      "image/png": "[encoded data removed]",
      "text/plain": [
       "<Figure size 360x360 with 1 Axes>"
      ]
     },
     "metadata": {
      "needs_background": "light"
     },
     "output_type": "display_data"
    },
    {
     "data": {
      "image/png": "[encoded data removed]",
      "text/plain": [
       "<Figure size 360x360 with 1 Axes>"
      ]
     },
     "metadata": {
      "needs_background": "light"
     },
     "output_type": "display_data"
    },
    {
     "data": {
      "image/png": "[encoded data removed]",
      "text/plain": [
       "<Figure size 360x360 with 1 Axes>"
      ]
     },
     "metadata": {
      "needs_background": "light"
     },
     "output_type": "display_data"
    },
    {
     "data": {
      "image/png": "[encoded data removed]",
      "text/plain": [
       "<Figure size 360x360 with 1 Axes>"
      ]
     },
     "metadata": {
      "needs_background": "light"
     },
     "output_type": "display_data"
    },
    {
     "data": {
      "image/png": "[encoded data removed]",
      "text/plain": [
       "<Figure size 402.375x360 with 1 Axes>"
      ]
     },
     "metadata": {
      "needs_background": "light"
     },
     "output_type": "display_data"
    }
   ],
   "source": [
    "age_vs_fare_relplot = sns.relplot(data=titanic_df, x='Age', y='Fare')\n",
    "fare_displot1 = sns.displot(data=titanic_df, x='Fare')\n",
    "fare_displot2 = sns.displot(data=titanic_df, x='Fare', bins=20)\n",
    "fare_displot3 = sns.displot(data=titanic_df, x='Fare', binwidth=50)\n",
    "fare_vs_pcls_displot = sns.displot(data=titanic_df, x='Fare', hue='Pclass', binwidth=50)"
   ]
  },
  {
   "cell_type": "code",
   "execution_count": 83,
   "id": "689d9b9b-3ad5-4f58-aa60-d87e554bc7f2",
   "metadata": {},
   "outputs": [
    {
     "name": "stdout",
     "output_type": "stream",
     "text": [
      "{'age_vs_fare_bivariate.png': <seaborn.axisgrid.FacetGrid object at 0x00000281CB6AFBB0>, 'fares_univariate1.png': <seaborn.axisgrid.FacetGrid object at 0x00000281CB9C21C0>, 'fares_univariate2.png': <seaborn.axisgrid.FacetGrid object at 0x00000281CB98B850>, 'fares_univariate3.png': <seaborn.axisgrid.FacetGrid object at 0x00000281CBB572B0>, 'fare_vs_pcls_bivariate.png': <seaborn.axisgrid.FacetGrid object at 0x00000281CBB753A0>, 'bill_vs_tip.png': <seaborn.axisgrid.FacetGrid object at 0x00000281BDDD9130>}\n"
     ]
    }
   ],
   "source": [
    "fig_plots = [age_vs_fare_relplot, fare_displot1, fare_displot2, fare_displot3, fare_vs_pcls_displot, bill_vs_tip]\n",
    "file_loc = ['age_vs_fare_bivariate.png', 'fares_univariate1.png', 'fares_univariate2.png', 'fares_univariate3.png', 'fare_vs_pcls_bivariate.png', 'bill_vs_tip.png']\n",
    "\n",
    "plots_record = {file_loc[ind]: fig_plots[ind] for ind in range(len(fig_plots))}\n",
    "print(plots_record)"
   ]
  },
  {
   "cell_type": "markdown",
   "id": "b949e985-71f5-4fce-9f27-e0eb4c84ce4b",
   "metadata": {},
   "source": [
    "#### Q30:\n",
    "    save each figure objects in the dictionary with filename as corresponding keys"
   ]
  },
  {
   "cell_type": "code",
   "execution_count": 84,
   "id": "161e7abb-bd99-4e57-9f3c-8570675ec7f4",
   "metadata": {},
   "outputs": [],
   "source": [
    "for filename,fig_obj in plots_record.items():\n",
    "    fig_obj.savefig(filename)"
   ]
  },
  {
   "cell_type": "markdown",
   "id": "cdff8d51-5259-4201-9e5e-b4e8f7ab1482",
   "metadata": {},
   "source": [
    "#### Q31:\n",
    "    Generate random date string"
   ]
  },
  {
   "cell_type": "code",
   "execution_count": 92,
   "id": "8986cda9-b964-4129-8bcc-77d8e557b916",
   "metadata": {},
   "outputs": [
    {
     "name": "stdout",
     "output_type": "stream",
     "text": [
      "adult_cond\t age_vs_fare_relplot\t bill_vs_tip\t col\t csv\t ducks\t embarked\t f\t fare\t \n",
      "fare_displot1\t fare_displot2\t fare_displot3\t fare_vs_pcls_displot\t fig_obj\t fig_plots\t file_loc\t filename\t fpath\t \n",
      "imp_mods\t ind\t joblib\t json\t k\t mf\t my_pkg\t np\t num\t \n",
      "odd_months\t pd\t plots_record\t plt\t random\t sf\t sns\t some_number\t tips_df\t \n",
      "titanic_df\t tkt_above_fifteen_cond\t v\t \n"
     ]
    }
   ],
   "source": [
    "who"
   ]
  },
  {
   "cell_type": "code",
   "execution_count": 99,
   "id": "e2a162ba-0f9c-494e-8c27-8f39dad3545c",
   "metadata": {},
   "outputs": [
    {
     "name": "stdout",
     "output_type": "stream",
     "text": [
      "[{'first_name': 'Davey', 'last_name': 'McDuck', 'location': \"Rob's Office\", 'insane': True, 'followers': 12865, 'following': 120, 'weapons': ['wit', 'steely stare', 'devilish good looks'], 'remorse': None}, {'first_name': 'Jim', 'last_name': 'Bob', 'location': 'Turing Lab', 'insane': False, 'followers': 123, 'following': 5000, 'weapons': ['squeak'], 'remorse': None}, {'first_name': 'Celest', 'last_name': '', 'location': 'Throne Room', 'insane': True, 'followers': 40189, 'following': 1, 'weapons': ['politics', 'dance moves', 'chess grandmaster', 'immortality']}]\n"
     ]
    }
   ],
   "source": [
    "print(ducks)"
   ]
  },
  {
   "cell_type": "code",
   "execution_count": 265,
   "id": "45f613cf-a7ee-4962-8a07-74f6da9e2dd4",
   "metadata": {},
   "outputs": [],
   "source": [
    "import random\n",
    "import datetime"
   ]
  },
  {
   "cell_type": "code",
   "execution_count": 266,
   "id": "a088622c-4f1f-4dc7-b28d-1789f542dc36",
   "metadata": {},
   "outputs": [],
   "source": [
    "def generate_random_date_list(yr, month):\n",
    "    # determine maximum number of days per month while accounting for leap year\n",
    "    thirty_days = (4, 6, 9, 11)\n",
    "    feb_days = (28, 29)\n",
    "    is_leap_yr = False\n",
    "\n",
    "    # check if yr is a leap year\n",
    "    if (yr % 100) and not (yr % 4):\n",
    "        is_leap_yr = True\n",
    "    elif not (yr % 400):\n",
    "        is_leap_yr = True\n",
    "\n",
    "    if month == 2 and is_leap_yr:  # year is leap year and month is february\n",
    "        max_days = feb_days[1]  # 29 days\n",
    "    elif month == 2 and not is_leap_yr:  #year is not leap year and month is february\n",
    "        max_days = feb_days[0]  # 28 days\n",
    "    elif month in thirty_days:  # month belongs to the thirty_day category\n",
    "        max_days = 30\n",
    "    else:  # month belongs to the thirty-one-day category\n",
    "        max_days = 31\n",
    "\n",
    "    day = random.randint(1, max_days)\n",
    "\n",
    "    date_list = [day, month, yr]\n",
    "    return date_list"
   ]
  },
  {
   "cell_type": "code",
   "execution_count": 267,
   "id": "7d8be9a7-f657-42d9-829c-b139c97b04f1",
   "metadata": {},
   "outputs": [
    {
     "name": "stdout",
     "output_type": "stream",
     "text": [
      "[{'first_name': 'Davey', 'last_name': 'McDuck', 'location': \"Rob's Office\", 'insane': True, 'followers': 12865, 'following': 120, 'weapons': ['wit', 'steely stare', 'devilish good looks'], 'remorse': None, 'dob': '17/04/1946'}, {'first_name': 'Jim', 'last_name': 'Bob', 'location': 'Turing Lab', 'insane': False, 'followers': 123, 'following': 5000, 'weapons': ['squeak'], 'remorse': None, 'dob': '07/04/1977'}, {'first_name': 'Celest', 'last_name': '', 'location': 'Throne Room', 'insane': True, 'followers': 40189, 'following': 1, 'weapons': ['politics', 'dance moves', 'chess grandmaster', 'immortality'], 'dob': '24/06/1919'}]\n"
     ]
    }
   ],
   "source": [
    "# generate random DOB str for each duck\n",
    "duck_dob = []\n",
    "for num in range(len(ducks)):\n",
    "    # year is integer ranging from last year (current year - 1) to 120 years before (current year - 120)\n",
    "    yy = random.randint(datetime.date.today().year - 120, datetime.date.today().year-1)\n",
    "    # month is integer ranging from 1 to 12\n",
    "    mm = month = random.randint(1, 12)\n",
    "    \n",
    "    # generate dob\n",
    "    dob_list = generate_random_date_list(yy, mm)\n",
    "    # print(dob_list)\n",
    "    \n",
    "    # convert dob list into str\n",
    "    date_str = \"/\".join([str(val) for val in dob_list])\n",
    "    # print(date_str)\n",
    "    \n",
    "    # readjust the day and month values to use two digits\n",
    "    date_str = '/'.join([f\"{dob_list[0]:02d}\", f\"{dob_list[1]:02d}\", f\"{dob_list[2]}\"])\n",
    "    # print(date_str)\n",
    "    \n",
    "    # store date string in a list\n",
    "    ducks[num]['dob'] = date_str\n",
    "print(ducks)"
   ]
  },
  {
   "cell_type": "markdown",
   "id": "3495d459-fdfd-487c-a3e8-3c087218035e",
   "metadata": {},
   "source": [
    "#### Q32:\n",
    "    Break down date from str to list of int"
   ]
  },
  {
   "cell_type": "code",
   "execution_count": 277,
   "id": "30612e02-1b47-4bb2-8dc6-4f854e207923",
   "metadata": {},
   "outputs": [
    {
     "name": "stdout",
     "output_type": "stream",
     "text": [
      "17 4 1946\n",
      "Davey is 75years, 6months old today 2021-10-21\n",
      "7 4 1977\n",
      "Jim is 44years, 6months old today 2021-10-21\n",
      "24 6 1919\n",
      "Celest is 102years, 4months old today 2021-10-21\n"
     ]
    }
   ],
   "source": [
    "\n",
    "for num in range(len(ducks)):\n",
    "    dob_str = ducks[num]['dob']\n",
    "    breakdown = dob_str.split(\"/\")\n",
    "    dd = int( breakdown[0] )\n",
    "    mm = int( breakdown[1] )\n",
    "    yyyy = int( breakdown[2] )\n",
    "\n",
    "    print(dd, mm, yyyy)\n",
    "    \n",
    "    yr_diff = datetime.date.today().year - yyyy\n",
    "    mon_diff = datetime.date.today().month - mm\n",
    "    day_diff = datetime.date.today().day - dd\n",
    "    \n",
    "    if mon_diff < 0:\n",
    "        print(f\"{ducks[num]['first_name']} is {yr_diff - 1}years, {datetime.date.today().month}months and {datetime.date.today().day}days old today {datetime.date.today()}\")\n",
    "    elif mon_diff == 0 and day_diff == 0:\n",
    "        print(f\"Happy Birthday {ducks[num]['first_name']}!\\nYou are {yr_diff}years old today {datetime.date.today()}\")\n",
    "    else: #mon_diff >= 0 and day_diff < 0:\n",
    "        print(f\"{ducks[num]['first_name']} is {yr_diff}years, {mon_diff}months old today {datetime.date.today()}\")"
   ]
  },
  {
   "cell_type": "code",
   "execution_count": 269,
   "id": "a1cb2742-44bd-4d2f-bb1c-61a9f8d36939",
   "metadata": {},
   "outputs": [
    {
     "data": {
      "text/plain": [
       "9"
      ]
     },
     "execution_count": 269,
     "metadata": {},
     "output_type": "execute_result"
    }
   ],
   "source": [
    "int('09')"
   ]
  },
  {
   "cell_type": "code",
   "execution_count": null,
   "id": "ad506ec9-86f8-4237-a206-33c5f385aaad",
   "metadata": {},
   "outputs": [],
   "source": []
  }
 ],
 "metadata": {
  "kernelspec": {
   "display_name": "Python 3 (ipykernel)",
   "language": "python",
   "name": "python3"
  },
  "language_info": {
   "codemirror_mode": {
    "name": "ipython",
    "version": 3
   },
   "file_extension": ".py",
   "mimetype": "text/x-python",
   "name": "python",
   "nbconvert_exporter": "python",
   "pygments_lexer": "ipython3",
   "version": "3.9.7"
  }
 },
 "nbformat": 4,
 "nbformat_minor": 5
}
